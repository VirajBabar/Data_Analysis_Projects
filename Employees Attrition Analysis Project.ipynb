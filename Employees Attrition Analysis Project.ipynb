{
 "cells": [
  {
   "cell_type": "markdown",
   "id": "8ea93502",
   "metadata": {},
   "source": [
    "### Importing Libraries"
   ]
  },
  {
   "cell_type": "code",
   "execution_count": 4,
   "id": "973f3ecf",
   "metadata": {},
   "outputs": [],
   "source": [
    "import numpy as np\n",
    "import pandas as pd\n",
    "import matplotlib.pyplot as plt\n",
    "import seaborn as sns\n",
    "\n",
    "pd.set_option(\"display.max_columns\", 100)"
   ]
  },
  {
   "cell_type": "code",
   "execution_count": 5,
   "id": "0e43a845",
   "metadata": {
    "scrolled": true
   },
   "outputs": [
    {
     "data": {
      "text/html": [
       "<div>\n",
       "<style scoped>\n",
       "    .dataframe tbody tr th:only-of-type {\n",
       "        vertical-align: middle;\n",
       "    }\n",
       "\n",
       "    .dataframe tbody tr th {\n",
       "        vertical-align: top;\n",
       "    }\n",
       "\n",
       "    .dataframe thead th {\n",
       "        text-align: right;\n",
       "    }\n",
       "</style>\n",
       "<table border=\"1\" class=\"dataframe\">\n",
       "  <thead>\n",
       "    <tr style=\"text-align: right;\">\n",
       "      <th></th>\n",
       "      <th>Age</th>\n",
       "      <th>Attrition</th>\n",
       "      <th>BusinessTravel</th>\n",
       "      <th>DailyRate</th>\n",
       "      <th>Department</th>\n",
       "      <th>DistanceFromHome</th>\n",
       "      <th>Education</th>\n",
       "      <th>EnvironmentSatisfaction</th>\n",
       "      <th>Gender</th>\n",
       "      <th>JobInvolvement</th>\n",
       "      <th>JobLevel</th>\n",
       "      <th>JobRole</th>\n",
       "      <th>JobSatisfaction</th>\n",
       "      <th>MaritalStatus</th>\n",
       "      <th>NumCompaniesWorked</th>\n",
       "      <th>OverTime</th>\n",
       "      <th>PercentSalaryHike</th>\n",
       "      <th>PerformanceRating</th>\n",
       "      <th>RelationshipSatisfaction</th>\n",
       "      <th>StockOptionLevel</th>\n",
       "      <th>TotalWorkingYears</th>\n",
       "      <th>TrainingTimesLastYear</th>\n",
       "      <th>WorkLifeBalance</th>\n",
       "      <th>YearsAtCompany</th>\n",
       "      <th>YearsInCurrentRole</th>\n",
       "      <th>YearsSinceLastPromotion</th>\n",
       "      <th>YearsWithCurrManager</th>\n",
       "    </tr>\n",
       "  </thead>\n",
       "  <tbody>\n",
       "    <tr>\n",
       "      <th>0</th>\n",
       "      <td>31</td>\n",
       "      <td>No</td>\n",
       "      <td>Non-Travel</td>\n",
       "      <td>158</td>\n",
       "      <td>Software</td>\n",
       "      <td>7</td>\n",
       "      <td>3</td>\n",
       "      <td>3</td>\n",
       "      <td>Male</td>\n",
       "      <td>2</td>\n",
       "      <td>3</td>\n",
       "      <td>Developer</td>\n",
       "      <td>1</td>\n",
       "      <td>Married</td>\n",
       "      <td>2</td>\n",
       "      <td>No</td>\n",
       "      <td>20</td>\n",
       "      <td>4</td>\n",
       "      <td>1</td>\n",
       "      <td>2</td>\n",
       "      <td>15</td>\n",
       "      <td>1</td>\n",
       "      <td>2</td>\n",
       "      <td>12</td>\n",
       "      <td>4</td>\n",
       "      <td>10</td>\n",
       "      <td>11</td>\n",
       "    </tr>\n",
       "    <tr>\n",
       "      <th>1</th>\n",
       "      <td>38</td>\n",
       "      <td>No</td>\n",
       "      <td>Travel_Rarely</td>\n",
       "      <td>985</td>\n",
       "      <td>Human Resources</td>\n",
       "      <td>33</td>\n",
       "      <td>5</td>\n",
       "      <td>1</td>\n",
       "      <td>Female</td>\n",
       "      <td>2</td>\n",
       "      <td>4</td>\n",
       "      <td>Healthcare Representative</td>\n",
       "      <td>3</td>\n",
       "      <td>Single</td>\n",
       "      <td>8</td>\n",
       "      <td>No</td>\n",
       "      <td>2</td>\n",
       "      <td>1</td>\n",
       "      <td>3</td>\n",
       "      <td>4</td>\n",
       "      <td>5</td>\n",
       "      <td>4</td>\n",
       "      <td>3</td>\n",
       "      <td>1</td>\n",
       "      <td>1</td>\n",
       "      <td>1</td>\n",
       "      <td>1</td>\n",
       "    </tr>\n",
       "    <tr>\n",
       "      <th>2</th>\n",
       "      <td>59</td>\n",
       "      <td>Yes</td>\n",
       "      <td>Non-Travel</td>\n",
       "      <td>1273</td>\n",
       "      <td>Sales</td>\n",
       "      <td>5</td>\n",
       "      <td>2</td>\n",
       "      <td>4</td>\n",
       "      <td>Female</td>\n",
       "      <td>1</td>\n",
       "      <td>3</td>\n",
       "      <td>Manufacturing Director</td>\n",
       "      <td>2</td>\n",
       "      <td>Married</td>\n",
       "      <td>7</td>\n",
       "      <td>Yes</td>\n",
       "      <td>39</td>\n",
       "      <td>3</td>\n",
       "      <td>2</td>\n",
       "      <td>2</td>\n",
       "      <td>9</td>\n",
       "      <td>5</td>\n",
       "      <td>1</td>\n",
       "      <td>6</td>\n",
       "      <td>6</td>\n",
       "      <td>4</td>\n",
       "      <td>3</td>\n",
       "    </tr>\n",
       "    <tr>\n",
       "      <th>3</th>\n",
       "      <td>52</td>\n",
       "      <td>Yes</td>\n",
       "      <td>Travel_Rarely</td>\n",
       "      <td>480</td>\n",
       "      <td>Support</td>\n",
       "      <td>2</td>\n",
       "      <td>5</td>\n",
       "      <td>4</td>\n",
       "      <td>Female</td>\n",
       "      <td>2</td>\n",
       "      <td>4</td>\n",
       "      <td>Human Resources</td>\n",
       "      <td>1</td>\n",
       "      <td>Married</td>\n",
       "      <td>4</td>\n",
       "      <td>No</td>\n",
       "      <td>16</td>\n",
       "      <td>3</td>\n",
       "      <td>2</td>\n",
       "      <td>2</td>\n",
       "      <td>22</td>\n",
       "      <td>4</td>\n",
       "      <td>4</td>\n",
       "      <td>10</td>\n",
       "      <td>9</td>\n",
       "      <td>5</td>\n",
       "      <td>6</td>\n",
       "    </tr>\n",
       "    <tr>\n",
       "      <th>4</th>\n",
       "      <td>32</td>\n",
       "      <td>No</td>\n",
       "      <td>Non-Travel</td>\n",
       "      <td>543</td>\n",
       "      <td>Human Resources</td>\n",
       "      <td>7</td>\n",
       "      <td>5</td>\n",
       "      <td>2</td>\n",
       "      <td>Male</td>\n",
       "      <td>3</td>\n",
       "      <td>3</td>\n",
       "      <td>Manager</td>\n",
       "      <td>2</td>\n",
       "      <td>Divorced</td>\n",
       "      <td>6</td>\n",
       "      <td>Yes</td>\n",
       "      <td>42</td>\n",
       "      <td>3</td>\n",
       "      <td>4</td>\n",
       "      <td>2</td>\n",
       "      <td>30</td>\n",
       "      <td>3</td>\n",
       "      <td>4</td>\n",
       "      <td>29</td>\n",
       "      <td>27</td>\n",
       "      <td>9</td>\n",
       "      <td>7</td>\n",
       "    </tr>\n",
       "    <tr>\n",
       "      <th>...</th>\n",
       "      <td>...</td>\n",
       "      <td>...</td>\n",
       "      <td>...</td>\n",
       "      <td>...</td>\n",
       "      <td>...</td>\n",
       "      <td>...</td>\n",
       "      <td>...</td>\n",
       "      <td>...</td>\n",
       "      <td>...</td>\n",
       "      <td>...</td>\n",
       "      <td>...</td>\n",
       "      <td>...</td>\n",
       "      <td>...</td>\n",
       "      <td>...</td>\n",
       "      <td>...</td>\n",
       "      <td>...</td>\n",
       "      <td>...</td>\n",
       "      <td>...</td>\n",
       "      <td>...</td>\n",
       "      <td>...</td>\n",
       "      <td>...</td>\n",
       "      <td>...</td>\n",
       "      <td>...</td>\n",
       "      <td>...</td>\n",
       "      <td>...</td>\n",
       "      <td>...</td>\n",
       "      <td>...</td>\n",
       "    </tr>\n",
       "    <tr>\n",
       "      <th>49995</th>\n",
       "      <td>55</td>\n",
       "      <td>Yes</td>\n",
       "      <td>Travel_Rarely</td>\n",
       "      <td>1226</td>\n",
       "      <td>Research &amp; Development</td>\n",
       "      <td>28</td>\n",
       "      <td>1</td>\n",
       "      <td>1</td>\n",
       "      <td>Female</td>\n",
       "      <td>4</td>\n",
       "      <td>5</td>\n",
       "      <td>Research Director</td>\n",
       "      <td>2</td>\n",
       "      <td>Divorced</td>\n",
       "      <td>1</td>\n",
       "      <td>No</td>\n",
       "      <td>29</td>\n",
       "      <td>4</td>\n",
       "      <td>3</td>\n",
       "      <td>1</td>\n",
       "      <td>16</td>\n",
       "      <td>3</td>\n",
       "      <td>1</td>\n",
       "      <td>2</td>\n",
       "      <td>1</td>\n",
       "      <td>1</td>\n",
       "      <td>2</td>\n",
       "    </tr>\n",
       "    <tr>\n",
       "      <th>49996</th>\n",
       "      <td>39</td>\n",
       "      <td>Yes</td>\n",
       "      <td>Travel_Rarely</td>\n",
       "      <td>1201</td>\n",
       "      <td>Human Resources</td>\n",
       "      <td>33</td>\n",
       "      <td>4</td>\n",
       "      <td>4</td>\n",
       "      <td>Female</td>\n",
       "      <td>2</td>\n",
       "      <td>2</td>\n",
       "      <td>Human Resources</td>\n",
       "      <td>3</td>\n",
       "      <td>Single</td>\n",
       "      <td>4</td>\n",
       "      <td>Yes</td>\n",
       "      <td>11</td>\n",
       "      <td>1</td>\n",
       "      <td>1</td>\n",
       "      <td>3</td>\n",
       "      <td>12</td>\n",
       "      <td>6</td>\n",
       "      <td>3</td>\n",
       "      <td>5</td>\n",
       "      <td>2</td>\n",
       "      <td>2</td>\n",
       "      <td>4</td>\n",
       "    </tr>\n",
       "    <tr>\n",
       "      <th>49997</th>\n",
       "      <td>44</td>\n",
       "      <td>No</td>\n",
       "      <td>Travel_Rarely</td>\n",
       "      <td>232</td>\n",
       "      <td>Software</td>\n",
       "      <td>47</td>\n",
       "      <td>4</td>\n",
       "      <td>4</td>\n",
       "      <td>Female</td>\n",
       "      <td>1</td>\n",
       "      <td>5</td>\n",
       "      <td>Manager</td>\n",
       "      <td>3</td>\n",
       "      <td>Single</td>\n",
       "      <td>1</td>\n",
       "      <td>No</td>\n",
       "      <td>1</td>\n",
       "      <td>4</td>\n",
       "      <td>3</td>\n",
       "      <td>2</td>\n",
       "      <td>3</td>\n",
       "      <td>6</td>\n",
       "      <td>1</td>\n",
       "      <td>1</td>\n",
       "      <td>1</td>\n",
       "      <td>1</td>\n",
       "      <td>1</td>\n",
       "    </tr>\n",
       "    <tr>\n",
       "      <th>49998</th>\n",
       "      <td>49</td>\n",
       "      <td>No</td>\n",
       "      <td>Travel_Rarely</td>\n",
       "      <td>1390</td>\n",
       "      <td>Human Resources</td>\n",
       "      <td>40</td>\n",
       "      <td>4</td>\n",
       "      <td>3</td>\n",
       "      <td>Male</td>\n",
       "      <td>1</td>\n",
       "      <td>5</td>\n",
       "      <td>Healthcare Representative</td>\n",
       "      <td>4</td>\n",
       "      <td>Single</td>\n",
       "      <td>6</td>\n",
       "      <td>Yes</td>\n",
       "      <td>15</td>\n",
       "      <td>1</td>\n",
       "      <td>1</td>\n",
       "      <td>1</td>\n",
       "      <td>1</td>\n",
       "      <td>1</td>\n",
       "      <td>4</td>\n",
       "      <td>1</td>\n",
       "      <td>1</td>\n",
       "      <td>1</td>\n",
       "      <td>1</td>\n",
       "    </tr>\n",
       "    <tr>\n",
       "      <th>49999</th>\n",
       "      <td>50</td>\n",
       "      <td>Yes</td>\n",
       "      <td>Travel_Rarely</td>\n",
       "      <td>861</td>\n",
       "      <td>Sales</td>\n",
       "      <td>20</td>\n",
       "      <td>2</td>\n",
       "      <td>1</td>\n",
       "      <td>Female</td>\n",
       "      <td>3</td>\n",
       "      <td>5</td>\n",
       "      <td>Research Director</td>\n",
       "      <td>2</td>\n",
       "      <td>Single</td>\n",
       "      <td>0</td>\n",
       "      <td>No</td>\n",
       "      <td>32</td>\n",
       "      <td>4</td>\n",
       "      <td>4</td>\n",
       "      <td>1</td>\n",
       "      <td>17</td>\n",
       "      <td>6</td>\n",
       "      <td>4</td>\n",
       "      <td>16</td>\n",
       "      <td>13</td>\n",
       "      <td>14</td>\n",
       "      <td>7</td>\n",
       "    </tr>\n",
       "  </tbody>\n",
       "</table>\n",
       "<p>50000 rows × 27 columns</p>\n",
       "</div>"
      ],
      "text/plain": [
       "       Age Attrition BusinessTravel  DailyRate              Department  \\\n",
       "0       31        No     Non-Travel        158                Software   \n",
       "1       38        No  Travel_Rarely        985         Human Resources   \n",
       "2       59       Yes     Non-Travel       1273                   Sales   \n",
       "3       52       Yes  Travel_Rarely        480                 Support   \n",
       "4       32        No     Non-Travel        543         Human Resources   \n",
       "...    ...       ...            ...        ...                     ...   \n",
       "49995   55       Yes  Travel_Rarely       1226  Research & Development   \n",
       "49996   39       Yes  Travel_Rarely       1201         Human Resources   \n",
       "49997   44        No  Travel_Rarely        232                Software   \n",
       "49998   49        No  Travel_Rarely       1390         Human Resources   \n",
       "49999   50       Yes  Travel_Rarely        861                   Sales   \n",
       "\n",
       "       DistanceFromHome  Education  EnvironmentSatisfaction  Gender  \\\n",
       "0                     7          3                        3    Male   \n",
       "1                    33          5                        1  Female   \n",
       "2                     5          2                        4  Female   \n",
       "3                     2          5                        4  Female   \n",
       "4                     7          5                        2    Male   \n",
       "...                 ...        ...                      ...     ...   \n",
       "49995                28          1                        1  Female   \n",
       "49996                33          4                        4  Female   \n",
       "49997                47          4                        4  Female   \n",
       "49998                40          4                        3    Male   \n",
       "49999                20          2                        1  Female   \n",
       "\n",
       "       JobInvolvement  JobLevel                    JobRole  JobSatisfaction  \\\n",
       "0                   2         3                  Developer                1   \n",
       "1                   2         4  Healthcare Representative                3   \n",
       "2                   1         3     Manufacturing Director                2   \n",
       "3                   2         4            Human Resources                1   \n",
       "4                   3         3                    Manager                2   \n",
       "...               ...       ...                        ...              ...   \n",
       "49995               4         5          Research Director                2   \n",
       "49996               2         2            Human Resources                3   \n",
       "49997               1         5                    Manager                3   \n",
       "49998               1         5  Healthcare Representative                4   \n",
       "49999               3         5          Research Director                2   \n",
       "\n",
       "      MaritalStatus  NumCompaniesWorked OverTime  PercentSalaryHike  \\\n",
       "0           Married                   2       No                 20   \n",
       "1            Single                   8       No                  2   \n",
       "2           Married                   7      Yes                 39   \n",
       "3           Married                   4       No                 16   \n",
       "4          Divorced                   6      Yes                 42   \n",
       "...             ...                 ...      ...                ...   \n",
       "49995      Divorced                   1       No                 29   \n",
       "49996        Single                   4      Yes                 11   \n",
       "49997        Single                   1       No                  1   \n",
       "49998        Single                   6      Yes                 15   \n",
       "49999        Single                   0       No                 32   \n",
       "\n",
       "       PerformanceRating  RelationshipSatisfaction  StockOptionLevel  \\\n",
       "0                      4                         1                 2   \n",
       "1                      1                         3                 4   \n",
       "2                      3                         2                 2   \n",
       "3                      3                         2                 2   \n",
       "4                      3                         4                 2   \n",
       "...                  ...                       ...               ...   \n",
       "49995                  4                         3                 1   \n",
       "49996                  1                         1                 3   \n",
       "49997                  4                         3                 2   \n",
       "49998                  1                         1                 1   \n",
       "49999                  4                         4                 1   \n",
       "\n",
       "       TotalWorkingYears  TrainingTimesLastYear  WorkLifeBalance  \\\n",
       "0                     15                      1                2   \n",
       "1                      5                      4                3   \n",
       "2                      9                      5                1   \n",
       "3                     22                      4                4   \n",
       "4                     30                      3                4   \n",
       "...                  ...                    ...              ...   \n",
       "49995                 16                      3                1   \n",
       "49996                 12                      6                3   \n",
       "49997                  3                      6                1   \n",
       "49998                  1                      1                4   \n",
       "49999                 17                      6                4   \n",
       "\n",
       "       YearsAtCompany  YearsInCurrentRole  YearsSinceLastPromotion  \\\n",
       "0                  12                   4                       10   \n",
       "1                   1                   1                        1   \n",
       "2                   6                   6                        4   \n",
       "3                  10                   9                        5   \n",
       "4                  29                  27                        9   \n",
       "...               ...                 ...                      ...   \n",
       "49995               2                   1                        1   \n",
       "49996               5                   2                        2   \n",
       "49997               1                   1                        1   \n",
       "49998               1                   1                        1   \n",
       "49999              16                  13                       14   \n",
       "\n",
       "       YearsWithCurrManager  \n",
       "0                        11  \n",
       "1                         1  \n",
       "2                         3  \n",
       "3                         6  \n",
       "4                         7  \n",
       "...                     ...  \n",
       "49995                     2  \n",
       "49996                     4  \n",
       "49997                     1  \n",
       "49998                     1  \n",
       "49999                     7  \n",
       "\n",
       "[50000 rows x 27 columns]"
      ]
     },
     "execution_count": 5,
     "metadata": {},
     "output_type": "execute_result"
    }
   ],
   "source": [
    "df = pd.read_csv(\"HREmployee_data.csv\")\n",
    "df"
   ]
  },
  {
   "cell_type": "code",
   "execution_count": 6,
   "id": "6990b6dc",
   "metadata": {
    "scrolled": true
   },
   "outputs": [
    {
     "name": "stdout",
     "output_type": "stream",
     "text": [
      "<class 'pandas.core.frame.DataFrame'>\n",
      "RangeIndex: 50000 entries, 0 to 49999\n",
      "Data columns (total 27 columns):\n",
      " #   Column                    Non-Null Count  Dtype \n",
      "---  ------                    --------------  ----- \n",
      " 0   Age                       50000 non-null  int64 \n",
      " 1   Attrition                 50000 non-null  object\n",
      " 2   BusinessTravel            50000 non-null  object\n",
      " 3   DailyRate                 50000 non-null  int64 \n",
      " 4   Department                50000 non-null  object\n",
      " 5   DistanceFromHome          50000 non-null  int64 \n",
      " 6   Education                 50000 non-null  int64 \n",
      " 7   EnvironmentSatisfaction   50000 non-null  int64 \n",
      " 8   Gender                    50000 non-null  object\n",
      " 9   JobInvolvement            50000 non-null  int64 \n",
      " 10  JobLevel                  50000 non-null  int64 \n",
      " 11  JobRole                   50000 non-null  object\n",
      " 12  JobSatisfaction           50000 non-null  int64 \n",
      " 13  MaritalStatus             50000 non-null  object\n",
      " 14  NumCompaniesWorked        50000 non-null  int64 \n",
      " 15  OverTime                  50000 non-null  object\n",
      " 16  PercentSalaryHike         50000 non-null  int64 \n",
      " 17  PerformanceRating         50000 non-null  int64 \n",
      " 18  RelationshipSatisfaction  50000 non-null  int64 \n",
      " 19  StockOptionLevel          50000 non-null  int64 \n",
      " 20  TotalWorkingYears         50000 non-null  int64 \n",
      " 21  TrainingTimesLastYear     50000 non-null  int64 \n",
      " 22  WorkLifeBalance           50000 non-null  int64 \n",
      " 23  YearsAtCompany            50000 non-null  int64 \n",
      " 24  YearsInCurrentRole        50000 non-null  int64 \n",
      " 25  YearsSinceLastPromotion   50000 non-null  int64 \n",
      " 26  YearsWithCurrManager      50000 non-null  int64 \n",
      "dtypes: int64(20), object(7)\n",
      "memory usage: 10.3+ MB\n"
     ]
    }
   ],
   "source": [
    "df.info()"
   ]
  },
  {
   "cell_type": "code",
   "execution_count": 7,
   "id": "e5e8dd3f",
   "metadata": {
    "scrolled": true
   },
   "outputs": [
    {
     "data": {
      "text/plain": [
       "Age                         0\n",
       "Attrition                   0\n",
       "BusinessTravel              0\n",
       "DailyRate                   0\n",
       "Department                  0\n",
       "DistanceFromHome            0\n",
       "Education                   0\n",
       "EnvironmentSatisfaction     0\n",
       "Gender                      0\n",
       "JobInvolvement              0\n",
       "JobLevel                    0\n",
       "JobRole                     0\n",
       "JobSatisfaction             0\n",
       "MaritalStatus               0\n",
       "NumCompaniesWorked          0\n",
       "OverTime                    0\n",
       "PercentSalaryHike           0\n",
       "PerformanceRating           0\n",
       "RelationshipSatisfaction    0\n",
       "StockOptionLevel            0\n",
       "TotalWorkingYears           0\n",
       "TrainingTimesLastYear       0\n",
       "WorkLifeBalance             0\n",
       "YearsAtCompany              0\n",
       "YearsInCurrentRole          0\n",
       "YearsSinceLastPromotion     0\n",
       "YearsWithCurrManager        0\n",
       "dtype: int64"
      ]
     },
     "execution_count": 7,
     "metadata": {},
     "output_type": "execute_result"
    }
   ],
   "source": [
    "df.isnull().sum()"
   ]
  },
  {
   "cell_type": "code",
   "execution_count": 11,
   "id": "8bf62426",
   "metadata": {
    "scrolled": true
   },
   "outputs": [
    {
     "data": {
      "text/plain": [
       "0"
      ]
     },
     "execution_count": 11,
     "metadata": {},
     "output_type": "execute_result"
    }
   ],
   "source": [
    "df.duplicated().sum()"
   ]
  },
  {
   "cell_type": "code",
   "execution_count": 8,
   "id": "476e9dd9",
   "metadata": {
    "scrolled": true
   },
   "outputs": [
    {
     "data": {
      "text/html": [
       "<div>\n",
       "<style scoped>\n",
       "    .dataframe tbody tr th:only-of-type {\n",
       "        vertical-align: middle;\n",
       "    }\n",
       "\n",
       "    .dataframe tbody tr th {\n",
       "        vertical-align: top;\n",
       "    }\n",
       "\n",
       "    .dataframe thead th {\n",
       "        text-align: right;\n",
       "    }\n",
       "</style>\n",
       "<table border=\"1\" class=\"dataframe\">\n",
       "  <thead>\n",
       "    <tr style=\"text-align: right;\">\n",
       "      <th></th>\n",
       "      <th>Age</th>\n",
       "      <th>DailyRate</th>\n",
       "      <th>DistanceFromHome</th>\n",
       "      <th>Education</th>\n",
       "      <th>EnvironmentSatisfaction</th>\n",
       "      <th>JobInvolvement</th>\n",
       "      <th>JobLevel</th>\n",
       "      <th>JobSatisfaction</th>\n",
       "      <th>NumCompaniesWorked</th>\n",
       "      <th>PercentSalaryHike</th>\n",
       "      <th>PerformanceRating</th>\n",
       "      <th>RelationshipSatisfaction</th>\n",
       "      <th>StockOptionLevel</th>\n",
       "      <th>TotalWorkingYears</th>\n",
       "      <th>TrainingTimesLastYear</th>\n",
       "      <th>WorkLifeBalance</th>\n",
       "      <th>YearsAtCompany</th>\n",
       "      <th>YearsInCurrentRole</th>\n",
       "      <th>YearsSinceLastPromotion</th>\n",
       "      <th>YearsWithCurrManager</th>\n",
       "    </tr>\n",
       "  </thead>\n",
       "  <tbody>\n",
       "    <tr>\n",
       "      <th>count</th>\n",
       "      <td>50000.000000</td>\n",
       "      <td>50000.000000</td>\n",
       "      <td>50000.000000</td>\n",
       "      <td>50000.000000</td>\n",
       "      <td>50000.000000</td>\n",
       "      <td>50000.000000</td>\n",
       "      <td>50000.000000</td>\n",
       "      <td>50000.000000</td>\n",
       "      <td>50000.000000</td>\n",
       "      <td>50000.00000</td>\n",
       "      <td>50000.000000</td>\n",
       "      <td>50000.000000</td>\n",
       "      <td>50000.000000</td>\n",
       "      <td>50000.000000</td>\n",
       "      <td>50000.000000</td>\n",
       "      <td>50000.00000</td>\n",
       "      <td>50000.00000</td>\n",
       "      <td>50000.000000</td>\n",
       "      <td>50000.000000</td>\n",
       "      <td>50000.000000</td>\n",
       "    </tr>\n",
       "    <tr>\n",
       "      <th>mean</th>\n",
       "      <td>38.971480</td>\n",
       "      <td>798.677560</td>\n",
       "      <td>25.539780</td>\n",
       "      <td>3.004600</td>\n",
       "      <td>2.498360</td>\n",
       "      <td>2.502620</td>\n",
       "      <td>2.994640</td>\n",
       "      <td>2.487380</td>\n",
       "      <td>3.999000</td>\n",
       "      <td>24.61832</td>\n",
       "      <td>2.495960</td>\n",
       "      <td>2.502220</td>\n",
       "      <td>2.503780</td>\n",
       "      <td>20.496860</td>\n",
       "      <td>3.493980</td>\n",
       "      <td>2.49872</td>\n",
       "      <td>10.77110</td>\n",
       "      <td>5.907300</td>\n",
       "      <td>5.871820</td>\n",
       "      <td>5.889040</td>\n",
       "    </tr>\n",
       "    <tr>\n",
       "      <th>std</th>\n",
       "      <td>12.420834</td>\n",
       "      <td>405.080217</td>\n",
       "      <td>14.339956</td>\n",
       "      <td>1.414249</td>\n",
       "      <td>1.119671</td>\n",
       "      <td>1.120544</td>\n",
       "      <td>1.415998</td>\n",
       "      <td>1.116309</td>\n",
       "      <td>2.582373</td>\n",
       "      <td>14.40500</td>\n",
       "      <td>1.118092</td>\n",
       "      <td>1.117918</td>\n",
       "      <td>1.118933</td>\n",
       "      <td>11.575819</td>\n",
       "      <td>1.708152</td>\n",
       "      <td>1.11412</td>\n",
       "      <td>8.93423</td>\n",
       "      <td>6.034378</td>\n",
       "      <td>5.999056</td>\n",
       "      <td>6.009613</td>\n",
       "    </tr>\n",
       "    <tr>\n",
       "      <th>min</th>\n",
       "      <td>18.000000</td>\n",
       "      <td>100.000000</td>\n",
       "      <td>1.000000</td>\n",
       "      <td>1.000000</td>\n",
       "      <td>1.000000</td>\n",
       "      <td>1.000000</td>\n",
       "      <td>1.000000</td>\n",
       "      <td>1.000000</td>\n",
       "      <td>0.000000</td>\n",
       "      <td>0.00000</td>\n",
       "      <td>1.000000</td>\n",
       "      <td>1.000000</td>\n",
       "      <td>1.000000</td>\n",
       "      <td>1.000000</td>\n",
       "      <td>1.000000</td>\n",
       "      <td>1.00000</td>\n",
       "      <td>1.00000</td>\n",
       "      <td>1.000000</td>\n",
       "      <td>1.000000</td>\n",
       "      <td>1.000000</td>\n",
       "    </tr>\n",
       "    <tr>\n",
       "      <th>25%</th>\n",
       "      <td>28.000000</td>\n",
       "      <td>445.000000</td>\n",
       "      <td>13.000000</td>\n",
       "      <td>2.000000</td>\n",
       "      <td>1.000000</td>\n",
       "      <td>1.000000</td>\n",
       "      <td>2.000000</td>\n",
       "      <td>1.000000</td>\n",
       "      <td>2.000000</td>\n",
       "      <td>12.00000</td>\n",
       "      <td>1.000000</td>\n",
       "      <td>2.000000</td>\n",
       "      <td>2.000000</td>\n",
       "      <td>11.000000</td>\n",
       "      <td>2.000000</td>\n",
       "      <td>2.00000</td>\n",
       "      <td>3.00000</td>\n",
       "      <td>1.000000</td>\n",
       "      <td>2.000000</td>\n",
       "      <td>1.000000</td>\n",
       "    </tr>\n",
       "    <tr>\n",
       "      <th>50%</th>\n",
       "      <td>39.000000</td>\n",
       "      <td>798.000000</td>\n",
       "      <td>25.000000</td>\n",
       "      <td>3.000000</td>\n",
       "      <td>2.000000</td>\n",
       "      <td>3.000000</td>\n",
       "      <td>3.000000</td>\n",
       "      <td>2.000000</td>\n",
       "      <td>4.000000</td>\n",
       "      <td>25.00000</td>\n",
       "      <td>2.000000</td>\n",
       "      <td>2.000000</td>\n",
       "      <td>3.000000</td>\n",
       "      <td>20.000000</td>\n",
       "      <td>3.000000</td>\n",
       "      <td>2.00000</td>\n",
       "      <td>8.00000</td>\n",
       "      <td>4.000000</td>\n",
       "      <td>4.000000</td>\n",
       "      <td>4.000000</td>\n",
       "    </tr>\n",
       "    <tr>\n",
       "      <th>75%</th>\n",
       "      <td>50.000000</td>\n",
       "      <td>1151.000000</td>\n",
       "      <td>38.000000</td>\n",
       "      <td>4.000000</td>\n",
       "      <td>4.000000</td>\n",
       "      <td>4.000000</td>\n",
       "      <td>4.000000</td>\n",
       "      <td>3.000000</td>\n",
       "      <td>6.000000</td>\n",
       "      <td>37.00000</td>\n",
       "      <td>3.000000</td>\n",
       "      <td>4.000000</td>\n",
       "      <td>4.000000</td>\n",
       "      <td>31.000000</td>\n",
       "      <td>5.000000</td>\n",
       "      <td>3.00000</td>\n",
       "      <td>16.00000</td>\n",
       "      <td>8.000000</td>\n",
       "      <td>8.000000</td>\n",
       "      <td>8.000000</td>\n",
       "    </tr>\n",
       "    <tr>\n",
       "      <th>max</th>\n",
       "      <td>60.000000</td>\n",
       "      <td>1500.000000</td>\n",
       "      <td>50.000000</td>\n",
       "      <td>5.000000</td>\n",
       "      <td>4.000000</td>\n",
       "      <td>4.000000</td>\n",
       "      <td>5.000000</td>\n",
       "      <td>4.000000</td>\n",
       "      <td>8.000000</td>\n",
       "      <td>49.00000</td>\n",
       "      <td>4.000000</td>\n",
       "      <td>4.000000</td>\n",
       "      <td>4.000000</td>\n",
       "      <td>40.000000</td>\n",
       "      <td>6.000000</td>\n",
       "      <td>4.00000</td>\n",
       "      <td>40.00000</td>\n",
       "      <td>40.000000</td>\n",
       "      <td>40.000000</td>\n",
       "      <td>40.000000</td>\n",
       "    </tr>\n",
       "  </tbody>\n",
       "</table>\n",
       "</div>"
      ],
      "text/plain": [
       "                Age     DailyRate  DistanceFromHome     Education  \\\n",
       "count  50000.000000  50000.000000      50000.000000  50000.000000   \n",
       "mean      38.971480    798.677560         25.539780      3.004600   \n",
       "std       12.420834    405.080217         14.339956      1.414249   \n",
       "min       18.000000    100.000000          1.000000      1.000000   \n",
       "25%       28.000000    445.000000         13.000000      2.000000   \n",
       "50%       39.000000    798.000000         25.000000      3.000000   \n",
       "75%       50.000000   1151.000000         38.000000      4.000000   \n",
       "max       60.000000   1500.000000         50.000000      5.000000   \n",
       "\n",
       "       EnvironmentSatisfaction  JobInvolvement      JobLevel  JobSatisfaction  \\\n",
       "count             50000.000000    50000.000000  50000.000000     50000.000000   \n",
       "mean                  2.498360        2.502620      2.994640         2.487380   \n",
       "std                   1.119671        1.120544      1.415998         1.116309   \n",
       "min                   1.000000        1.000000      1.000000         1.000000   \n",
       "25%                   1.000000        1.000000      2.000000         1.000000   \n",
       "50%                   2.000000        3.000000      3.000000         2.000000   \n",
       "75%                   4.000000        4.000000      4.000000         3.000000   \n",
       "max                   4.000000        4.000000      5.000000         4.000000   \n",
       "\n",
       "       NumCompaniesWorked  PercentSalaryHike  PerformanceRating  \\\n",
       "count        50000.000000        50000.00000       50000.000000   \n",
       "mean             3.999000           24.61832           2.495960   \n",
       "std              2.582373           14.40500           1.118092   \n",
       "min              0.000000            0.00000           1.000000   \n",
       "25%              2.000000           12.00000           1.000000   \n",
       "50%              4.000000           25.00000           2.000000   \n",
       "75%              6.000000           37.00000           3.000000   \n",
       "max              8.000000           49.00000           4.000000   \n",
       "\n",
       "       RelationshipSatisfaction  StockOptionLevel  TotalWorkingYears  \\\n",
       "count              50000.000000      50000.000000       50000.000000   \n",
       "mean                   2.502220          2.503780          20.496860   \n",
       "std                    1.117918          1.118933          11.575819   \n",
       "min                    1.000000          1.000000           1.000000   \n",
       "25%                    2.000000          2.000000          11.000000   \n",
       "50%                    2.000000          3.000000          20.000000   \n",
       "75%                    4.000000          4.000000          31.000000   \n",
       "max                    4.000000          4.000000          40.000000   \n",
       "\n",
       "       TrainingTimesLastYear  WorkLifeBalance  YearsAtCompany  \\\n",
       "count           50000.000000      50000.00000     50000.00000   \n",
       "mean                3.493980          2.49872        10.77110   \n",
       "std                 1.708152          1.11412         8.93423   \n",
       "min                 1.000000          1.00000         1.00000   \n",
       "25%                 2.000000          2.00000         3.00000   \n",
       "50%                 3.000000          2.00000         8.00000   \n",
       "75%                 5.000000          3.00000        16.00000   \n",
       "max                 6.000000          4.00000        40.00000   \n",
       "\n",
       "       YearsInCurrentRole  YearsSinceLastPromotion  YearsWithCurrManager  \n",
       "count        50000.000000             50000.000000          50000.000000  \n",
       "mean             5.907300                 5.871820              5.889040  \n",
       "std              6.034378                 5.999056              6.009613  \n",
       "min              1.000000                 1.000000              1.000000  \n",
       "25%              1.000000                 2.000000              1.000000  \n",
       "50%              4.000000                 4.000000              4.000000  \n",
       "75%              8.000000                 8.000000              8.000000  \n",
       "max             40.000000                40.000000             40.000000  "
      ]
     },
     "execution_count": 8,
     "metadata": {},
     "output_type": "execute_result"
    }
   ],
   "source": [
    "df.describe()"
   ]
  },
  {
   "cell_type": "markdown",
   "id": "33bf1800",
   "metadata": {},
   "source": [
    "    "
   ]
  },
  {
   "cell_type": "markdown",
   "id": "7808d92e",
   "metadata": {},
   "source": [
    "   "
   ]
  },
  {
   "cell_type": "markdown",
   "id": "75a122ca",
   "metadata": {},
   "source": [
    "\n",
    "\n",
    "\n",
    "\n",
    "\n",
    "# Univariate Analysis"
   ]
  },
  {
   "cell_type": "code",
   "execution_count": 38,
   "id": "6622abcc",
   "metadata": {
    "scrolled": true
   },
   "outputs": [
    {
     "name": "stdout",
     "output_type": "stream",
     "text": [
      " \n"
     ]
    },
    {
     "data": {
      "image/png": "[encoded data removed]",
      "text/plain": [
       "<Figure size 576x360 with 1 Axes>"
      ]
     },
     "metadata": {},
     "output_type": "display_data"
    },
    {
     "name": "stdout",
     "output_type": "stream",
     "text": [
      " \n"
     ]
    },
    {
     "data": {
      "image/png": "[encoded data removed]",
      "text/plain": [
       "<Figure size 576x360 with 1 Axes>"
      ]
     },
     "metadata": {},
     "output_type": "display_data"
    },
    {
     "name": "stdout",
     "output_type": "stream",
     "text": [
      " \n"
     ]
    },
    {
     "data": {
      "image/png": "[encoded data removed]",
      "text/plain": [
       "<Figure size 576x360 with 1 Axes>"
      ]
     },
     "metadata": {},
     "output_type": "display_data"
    },
    {
     "name": "stdout",
     "output_type": "stream",
     "text": [
      " \n"
     ]
    },
    {
     "data": {
      "image/png": "[encoded data removed]",
      "text/plain": [
       "<Figure size 576x360 with 1 Axes>"
      ]
     },
     "metadata": {},
     "output_type": "display_data"
    },
    {
     "name": "stdout",
     "output_type": "stream",
     "text": [
      " \n"
     ]
    },
    {
     "data": {
      "image/png": "[encoded data removed]",
      "text/plain": [
       "<Figure size 576x360 with 1 Axes>"
      ]
     },
     "metadata": {},
     "output_type": "display_data"
    },
    {
     "name": "stdout",
     "output_type": "stream",
     "text": [
      " \n"
     ]
    },
    {
     "data": {
      "image/png": "[encoded data removed]",
      "text/plain": [
       "<Figure size 576x360 with 1 Axes>"
      ]
     },
     "metadata": {},
     "output_type": "display_data"
    },
    {
     "name": "stdout",
     "output_type": "stream",
     "text": [
      " \n"
     ]
    },
    {
     "data": {
      "image/png": "[encoded data removed]",
      "text/plain": [
       "<Figure size 576x360 with 1 Axes>"
      ]
     },
     "metadata": {},
     "output_type": "display_data"
    }
   ],
   "source": [
    "# Univariate Analysis (overview) of all the categorical features\n",
    "\n",
    "\n",
    "sns.set_style(\"whitegrid\") # shows the gird pattern on plot\n",
    "\n",
    "# This functions will  run for each column and shows the plot\n",
    "def analyze_categorical(column):\n",
    "    value_counts = df[column].value_counts()\n",
    "    \n",
    "    plt.figure(figsize=(8, 5))\n",
    "    ax = sns.countplot(x=df[column], order=value_counts.index, palette=\"rocket\")\n",
    "    plt.title(f\"Bar chart of {column} (Descending Order with Percentage)\")\n",
    "    plt.xticks(rotation=45)\n",
    "    print(\" \")\n",
    "    \n",
    "    # This for will iterate over each bar graph above and measure the height of each bar and find the percentage.\n",
    "    for p in ax.patches:\n",
    "        height = p.get_height()\n",
    "        ax.annotate(f'{(height/len(df))*100:.1f}%', (p.get_x() + p.get_width() / 2., height), \n",
    "                    ha='center', va='bottom', fontsize=10, color='black', weight='bold')\n",
    "    \n",
    "    plt.show()\n",
    "\n",
    "# Getting only categorical column for univariate analysis\n",
    "categorical_cols = df.select_dtypes(include=['object']).columns.tolist()\n",
    "\n",
    "# For loop to iterate over each column for univariate analysis\n",
    "for col in categorical_cols:\n",
    "    analyze_categorical(col)"
   ]
  },
  {
   "cell_type": "markdown",
   "id": "018ea03e",
   "metadata": {},
   "source": [
    "   "
   ]
  },
  {
   "cell_type": "markdown",
   "id": "21f7942d",
   "metadata": {},
   "source": [
    "   "
   ]
  },
  {
   "cell_type": "code",
   "execution_count": 60,
   "id": "ec17f7eb",
   "metadata": {},
   "outputs": [
    {
     "data": {
      "text/html": [
       "<div>\n",
       "<style scoped>\n",
       "    .dataframe tbody tr th:only-of-type {\n",
       "        vertical-align: middle;\n",
       "    }\n",
       "\n",
       "    .dataframe tbody tr th {\n",
       "        vertical-align: top;\n",
       "    }\n",
       "\n",
       "    .dataframe thead th {\n",
       "        text-align: right;\n",
       "    }\n",
       "</style>\n",
       "<table border=\"1\" class=\"dataframe\">\n",
       "  <thead>\n",
       "    <tr style=\"text-align: right;\">\n",
       "      <th></th>\n",
       "      <th>Age</th>\n",
       "      <th>Attrition</th>\n",
       "      <th>BusinessTravel</th>\n",
       "      <th>DailyRate</th>\n",
       "      <th>Department</th>\n",
       "      <th>DistanceFromHome</th>\n",
       "      <th>Education</th>\n",
       "      <th>EnvironmentSatisfaction</th>\n",
       "      <th>Gender</th>\n",
       "      <th>JobInvolvement</th>\n",
       "      <th>JobLevel</th>\n",
       "      <th>JobRole</th>\n",
       "      <th>JobSatisfaction</th>\n",
       "      <th>MaritalStatus</th>\n",
       "      <th>NumCompaniesWorked</th>\n",
       "      <th>OverTime</th>\n",
       "      <th>PercentSalaryHike</th>\n",
       "      <th>PerformanceRating</th>\n",
       "      <th>RelationshipSatisfaction</th>\n",
       "      <th>StockOptionLevel</th>\n",
       "      <th>TotalWorkingYears</th>\n",
       "      <th>TrainingTimesLastYear</th>\n",
       "      <th>WorkLifeBalance</th>\n",
       "      <th>YearsAtCompany</th>\n",
       "      <th>YearsInCurrentRole</th>\n",
       "      <th>YearsSinceLastPromotion</th>\n",
       "      <th>YearsWithCurrManager</th>\n",
       "      <th>DistanceCategory</th>\n",
       "    </tr>\n",
       "  </thead>\n",
       "  <tbody>\n",
       "    <tr>\n",
       "      <th>0</th>\n",
       "      <td>31</td>\n",
       "      <td>No</td>\n",
       "      <td>Non-Travel</td>\n",
       "      <td>158</td>\n",
       "      <td>Software</td>\n",
       "      <td>7</td>\n",
       "      <td>3</td>\n",
       "      <td>3</td>\n",
       "      <td>Male</td>\n",
       "      <td>2</td>\n",
       "      <td>3</td>\n",
       "      <td>Developer</td>\n",
       "      <td>1</td>\n",
       "      <td>Married</td>\n",
       "      <td>2</td>\n",
       "      <td>No</td>\n",
       "      <td>20</td>\n",
       "      <td>4</td>\n",
       "      <td>1</td>\n",
       "      <td>2</td>\n",
       "      <td>15</td>\n",
       "      <td>1</td>\n",
       "      <td>2</td>\n",
       "      <td>12</td>\n",
       "      <td>4</td>\n",
       "      <td>10</td>\n",
       "      <td>11</td>\n",
       "      <td>Short</td>\n",
       "    </tr>\n",
       "    <tr>\n",
       "      <th>1</th>\n",
       "      <td>38</td>\n",
       "      <td>No</td>\n",
       "      <td>Travel_Rarely</td>\n",
       "      <td>985</td>\n",
       "      <td>Human Resources</td>\n",
       "      <td>33</td>\n",
       "      <td>5</td>\n",
       "      <td>1</td>\n",
       "      <td>Female</td>\n",
       "      <td>2</td>\n",
       "      <td>4</td>\n",
       "      <td>Healthcare Representative</td>\n",
       "      <td>3</td>\n",
       "      <td>Single</td>\n",
       "      <td>8</td>\n",
       "      <td>No</td>\n",
       "      <td>2</td>\n",
       "      <td>1</td>\n",
       "      <td>3</td>\n",
       "      <td>4</td>\n",
       "      <td>5</td>\n",
       "      <td>4</td>\n",
       "      <td>3</td>\n",
       "      <td>1</td>\n",
       "      <td>1</td>\n",
       "      <td>1</td>\n",
       "      <td>1</td>\n",
       "      <td>Long</td>\n",
       "    </tr>\n",
       "    <tr>\n",
       "      <th>2</th>\n",
       "      <td>59</td>\n",
       "      <td>Yes</td>\n",
       "      <td>Non-Travel</td>\n",
       "      <td>1273</td>\n",
       "      <td>Sales</td>\n",
       "      <td>5</td>\n",
       "      <td>2</td>\n",
       "      <td>4</td>\n",
       "      <td>Female</td>\n",
       "      <td>1</td>\n",
       "      <td>3</td>\n",
       "      <td>Manufacturing Director</td>\n",
       "      <td>2</td>\n",
       "      <td>Married</td>\n",
       "      <td>7</td>\n",
       "      <td>Yes</td>\n",
       "      <td>39</td>\n",
       "      <td>3</td>\n",
       "      <td>2</td>\n",
       "      <td>2</td>\n",
       "      <td>9</td>\n",
       "      <td>5</td>\n",
       "      <td>1</td>\n",
       "      <td>6</td>\n",
       "      <td>6</td>\n",
       "      <td>4</td>\n",
       "      <td>3</td>\n",
       "      <td>Short</td>\n",
       "    </tr>\n",
       "    <tr>\n",
       "      <th>3</th>\n",
       "      <td>52</td>\n",
       "      <td>Yes</td>\n",
       "      <td>Travel_Rarely</td>\n",
       "      <td>480</td>\n",
       "      <td>Support</td>\n",
       "      <td>2</td>\n",
       "      <td>5</td>\n",
       "      <td>4</td>\n",
       "      <td>Female</td>\n",
       "      <td>2</td>\n",
       "      <td>4</td>\n",
       "      <td>Human Resources</td>\n",
       "      <td>1</td>\n",
       "      <td>Married</td>\n",
       "      <td>4</td>\n",
       "      <td>No</td>\n",
       "      <td>16</td>\n",
       "      <td>3</td>\n",
       "      <td>2</td>\n",
       "      <td>2</td>\n",
       "      <td>22</td>\n",
       "      <td>4</td>\n",
       "      <td>4</td>\n",
       "      <td>10</td>\n",
       "      <td>9</td>\n",
       "      <td>5</td>\n",
       "      <td>6</td>\n",
       "      <td>Short</td>\n",
       "    </tr>\n",
       "    <tr>\n",
       "      <th>4</th>\n",
       "      <td>32</td>\n",
       "      <td>No</td>\n",
       "      <td>Non-Travel</td>\n",
       "      <td>543</td>\n",
       "      <td>Human Resources</td>\n",
       "      <td>7</td>\n",
       "      <td>5</td>\n",
       "      <td>2</td>\n",
       "      <td>Male</td>\n",
       "      <td>3</td>\n",
       "      <td>3</td>\n",
       "      <td>Manager</td>\n",
       "      <td>2</td>\n",
       "      <td>Divorced</td>\n",
       "      <td>6</td>\n",
       "      <td>Yes</td>\n",
       "      <td>42</td>\n",
       "      <td>3</td>\n",
       "      <td>4</td>\n",
       "      <td>2</td>\n",
       "      <td>30</td>\n",
       "      <td>3</td>\n",
       "      <td>4</td>\n",
       "      <td>29</td>\n",
       "      <td>27</td>\n",
       "      <td>9</td>\n",
       "      <td>7</td>\n",
       "      <td>Short</td>\n",
       "    </tr>\n",
       "  </tbody>\n",
       "</table>\n",
       "</div>"
      ],
      "text/plain": [
       "   Age Attrition BusinessTravel  DailyRate       Department  DistanceFromHome  \\\n",
       "0   31        No     Non-Travel        158         Software                 7   \n",
       "1   38        No  Travel_Rarely        985  Human Resources                33   \n",
       "2   59       Yes     Non-Travel       1273            Sales                 5   \n",
       "3   52       Yes  Travel_Rarely        480          Support                 2   \n",
       "4   32        No     Non-Travel        543  Human Resources                 7   \n",
       "\n",
       "   Education  EnvironmentSatisfaction  Gender  JobInvolvement  JobLevel  \\\n",
       "0          3                        3    Male               2         3   \n",
       "1          5                        1  Female               2         4   \n",
       "2          2                        4  Female               1         3   \n",
       "3          5                        4  Female               2         4   \n",
       "4          5                        2    Male               3         3   \n",
       "\n",
       "                     JobRole  JobSatisfaction MaritalStatus  \\\n",
       "0                  Developer                1       Married   \n",
       "1  Healthcare Representative                3        Single   \n",
       "2     Manufacturing Director                2       Married   \n",
       "3            Human Resources                1       Married   \n",
       "4                    Manager                2      Divorced   \n",
       "\n",
       "   NumCompaniesWorked OverTime  PercentSalaryHike  PerformanceRating  \\\n",
       "0                   2       No                 20                  4   \n",
       "1                   8       No                  2                  1   \n",
       "2                   7      Yes                 39                  3   \n",
       "3                   4       No                 16                  3   \n",
       "4                   6      Yes                 42                  3   \n",
       "\n",
       "   RelationshipSatisfaction  StockOptionLevel  TotalWorkingYears  \\\n",
       "0                         1                 2                 15   \n",
       "1                         3                 4                  5   \n",
       "2                         2                 2                  9   \n",
       "3                         2                 2                 22   \n",
       "4                         4                 2                 30   \n",
       "\n",
       "   TrainingTimesLastYear  WorkLifeBalance  YearsAtCompany  YearsInCurrentRole  \\\n",
       "0                      1                2              12                   4   \n",
       "1                      4                3               1                   1   \n",
       "2                      5                1               6                   6   \n",
       "3                      4                4              10                   9   \n",
       "4                      3                4              29                  27   \n",
       "\n",
       "   YearsSinceLastPromotion  YearsWithCurrManager DistanceCategory  \n",
       "0                       10                    11            Short  \n",
       "1                        1                     1             Long  \n",
       "2                        4                     3            Short  \n",
       "3                        5                     6            Short  \n",
       "4                        9                     7            Short  "
      ]
     },
     "execution_count": 60,
     "metadata": {},
     "output_type": "execute_result"
    }
   ],
   "source": [
    "df.head()"
   ]
  },
  {
   "cell_type": "markdown",
   "id": "e4c1a8c3",
   "metadata": {},
   "source": [
    "\n",
    "   "
   ]
  },
  {
   "cell_type": "markdown",
   "id": "388b072a",
   "metadata": {},
   "source": [
    "   "
   ]
  },
  {
   "cell_type": "markdown",
   "id": "96712788",
   "metadata": {},
   "source": [
    "### How satisfied are employees with their job, environment and relationships ?"
   ]
  },
  {
   "cell_type": "code",
   "execution_count": 64,
   "id": "da2e0010",
   "metadata": {
    "scrolled": true
   },
   "outputs": [
    {
     "data": {
      "image/png": "[encoded data removed]",
      "text/plain": [
       "<Figure size 1080x360 with 3 Axes>"
      ]
     },
     "metadata": {},
     "output_type": "display_data"
    }
   ],
   "source": [
    "\n",
    "satisfaction_columns = [\"JobSatisfaction\", \"EnvironmentSatisfaction\", \"RelationshipSatisfaction\"]\n",
    "\n",
    "# Setting figure size\n",
    "plt.figure(figsize=(15, 5))\n",
    "\n",
    "# interating through satifaction_columns\n",
    "for i, col in enumerate(satisfaction_columns, 1):\n",
    "    plt.subplot(1, 3, i)\n",
    "    sns.countplot(x=df[col], order=df[col].value_counts().index, palette=\"viridis\")\n",
    "    \n",
    "    plt.title(f\"{col} Distribution\")\n",
    "    plt.xlabel(\"Satisfaction Level\")\n",
    "    plt.ylabel(\"Number of Employees\")\n",
    "    \n",
    "    # Add percentage labels\n",
    "    total = len(df)\n",
    "    for p in plt.gca().patches:\n",
    "        height = p.get_height()\n",
    "        plt.text(p.get_x() + p.get_width() / 2., height, f'{(height/total)*100:.1f}%',  \n",
    "                 ha='center', va='bottom', fontsize=10, fontweight='bold')\n",
    "\n",
    "# Adjust layout and show the plots\n",
    "plt.tight_layout()\n",
    "plt.show()"
   ]
  },
  {
   "cell_type": "markdown",
   "id": "c8ee087a",
   "metadata": {},
   "source": [
    "  \n",
    " "
   ]
  },
  {
   "cell_type": "markdown",
   "id": "ebee5b39",
   "metadata": {},
   "source": [
    "   "
   ]
  },
  {
   "cell_type": "markdown",
   "id": "793f4efa",
   "metadata": {},
   "source": [
    "### What is the work-life balance rating distribution?"
   ]
  },
  {
   "cell_type": "code",
   "execution_count": 65,
   "id": "0b774771",
   "metadata": {},
   "outputs": [
    {
     "data": {
      "image/png": "[encoded data removed]",
      "text/plain": [
       "<Figure size 432x288 with 1 Axes>"
      ]
     },
     "metadata": {},
     "output_type": "display_data"
    }
   ],
   "source": [
    "plt.figure(figsize=(6, 4))\n",
    "sns.countplot(x=df[\"WorkLifeBalance\"], order=df[\"WorkLifeBalance\"].value_counts().index, palette=\"coolwarm\")\n",
    "\n",
    "# Add labels & title\n",
    "plt.title(\"Work-Life Balance Rating Distribution\")\n",
    "plt.xlabel(\"Work-Life Balance Rating\")\n",
    "plt.ylabel(\"Number of Employees\")\n",
    "\n",
    "# Add percentage labels on bars using plt.gca().patches and plt.text()\n",
    "total = len(df)\n",
    "for p in plt.gca().patches:\n",
    "    height = p.get_height()\n",
    "    plt.text(p.get_x() + p.get_width() / 2., height, f'{(height/total)*100:.1f}%',  \n",
    "             ha='center', va='bottom', fontsize=10, fontweight='bold')\n",
    "\n",
    "plt.show()"
   ]
  },
  {
   "cell_type": "markdown",
   "id": "9c554943",
   "metadata": {},
   "source": [
    "   "
   ]
  },
  {
   "cell_type": "markdown",
   "id": "ee27ea3c",
   "metadata": {},
   "source": [
    "   "
   ]
  },
  {
   "cell_type": "markdown",
   "id": "afce6f8b",
   "metadata": {},
   "source": [
    "### How many employees work overtime?"
   ]
  },
  {
   "cell_type": "code",
   "execution_count": 66,
   "id": "33a45cb0",
   "metadata": {},
   "outputs": [
    {
     "data": {
      "image/png": "[encoded data removed]",
      "text/plain": [
       "<Figure size 432x288 with 1 Axes>"
      ]
     },
     "metadata": {},
     "output_type": "display_data"
    }
   ],
   "source": [
    "plt.figure(figsize=(6, 4))\n",
    "sns.countplot(x=df[\"OverTime\"], order=df[\"OverTime\"].value_counts().index, palette=\"coolwarm\")\n",
    "\n",
    "# Add labels & title\n",
    "plt.title(\"Overtime Distribution Among Employees\")\n",
    "plt.xlabel(\"Overtime\")\n",
    "plt.ylabel(\"Number of Employees\")\n",
    "\n",
    "# Add percentage labels on bars using plt.text()\n",
    "total = len(df)\n",
    "for p in plt.gca().patches:\n",
    "    height = p.get_height()\n",
    "    plt.text(p.get_x() + p.get_width() / 2., height, f'{(height/total)*100:.1f}%',  \n",
    "             ha='center', va='bottom', fontsize=10, fontweight='bold')\n",
    "\n",
    "plt.show()"
   ]
  },
  {
   "cell_type": "markdown",
   "id": "41698e67",
   "metadata": {},
   "source": [
    "  "
   ]
  },
  {
   "cell_type": "markdown",
   "id": "33b4b5b0",
   "metadata": {},
   "source": [
    "  "
   ]
  },
  {
   "cell_type": "markdown",
   "id": "e2b3a368",
   "metadata": {},
   "source": [
    "### How often do employees receive training sessions per year?"
   ]
  },
  {
   "cell_type": "code",
   "execution_count": 67,
   "id": "45aa3ace",
   "metadata": {},
   "outputs": [
    {
     "data": {
      "image/png": "[encoded data removed]",
      "text/plain": [
       "<Figure size 576x360 with 1 Axes>"
      ]
     },
     "metadata": {},
     "output_type": "display_data"
    }
   ],
   "source": [
    "plt.figure(figsize=(8, 5))\n",
    "sns.countplot(x=df[\"TrainingTimesLastYear\"], order=df[\"TrainingTimesLastYear\"].value_counts().index, palette=\"viridis\")\n",
    "\n",
    "# Add labels & title\n",
    "plt.title(\"Training Sessions Per Year Distribution\")\n",
    "plt.xlabel(\"Number of Training Sessions\")\n",
    "plt.ylabel(\"Number of Employees\")\n",
    "\n",
    "# Add percentage labels on bars using plt.text()\n",
    "total = len(df)\n",
    "for p in plt.gca().patches:\n",
    "    height = p.get_height()\n",
    "    plt.text(p.get_x() + p.get_width() / 2., height, f'{(height/total)*100:.1f}%',  \n",
    "             ha='center', va='bottom', fontsize=10, fontweight='bold')\n",
    "\n",
    "plt.show()"
   ]
  },
  {
   "cell_type": "code",
   "execution_count": 68,
   "id": "3e008c32",
   "metadata": {},
   "outputs": [
    {
     "data": {
      "text/html": [
       "<div>\n",
       "<style scoped>\n",
       "    .dataframe tbody tr th:only-of-type {\n",
       "        vertical-align: middle;\n",
       "    }\n",
       "\n",
       "    .dataframe tbody tr th {\n",
       "        vertical-align: top;\n",
       "    }\n",
       "\n",
       "    .dataframe thead th {\n",
       "        text-align: right;\n",
       "    }\n",
       "</style>\n",
       "<table border=\"1\" class=\"dataframe\">\n",
       "  <thead>\n",
       "    <tr style=\"text-align: right;\">\n",
       "      <th></th>\n",
       "      <th>Age</th>\n",
       "      <th>Attrition</th>\n",
       "      <th>BusinessTravel</th>\n",
       "      <th>DailyRate</th>\n",
       "      <th>Department</th>\n",
       "      <th>DistanceFromHome</th>\n",
       "      <th>Education</th>\n",
       "      <th>EnvironmentSatisfaction</th>\n",
       "      <th>Gender</th>\n",
       "      <th>JobInvolvement</th>\n",
       "      <th>JobLevel</th>\n",
       "      <th>JobRole</th>\n",
       "      <th>JobSatisfaction</th>\n",
       "      <th>MaritalStatus</th>\n",
       "      <th>NumCompaniesWorked</th>\n",
       "      <th>OverTime</th>\n",
       "      <th>PercentSalaryHike</th>\n",
       "      <th>PerformanceRating</th>\n",
       "      <th>RelationshipSatisfaction</th>\n",
       "      <th>StockOptionLevel</th>\n",
       "      <th>TotalWorkingYears</th>\n",
       "      <th>TrainingTimesLastYear</th>\n",
       "      <th>WorkLifeBalance</th>\n",
       "      <th>YearsAtCompany</th>\n",
       "      <th>YearsInCurrentRole</th>\n",
       "      <th>YearsSinceLastPromotion</th>\n",
       "      <th>YearsWithCurrManager</th>\n",
       "      <th>DistanceCategory</th>\n",
       "    </tr>\n",
       "  </thead>\n",
       "  <tbody>\n",
       "    <tr>\n",
       "      <th>0</th>\n",
       "      <td>31</td>\n",
       "      <td>No</td>\n",
       "      <td>Non-Travel</td>\n",
       "      <td>158</td>\n",
       "      <td>Software</td>\n",
       "      <td>7</td>\n",
       "      <td>3</td>\n",
       "      <td>3</td>\n",
       "      <td>Male</td>\n",
       "      <td>2</td>\n",
       "      <td>3</td>\n",
       "      <td>Developer</td>\n",
       "      <td>1</td>\n",
       "      <td>Married</td>\n",
       "      <td>2</td>\n",
       "      <td>No</td>\n",
       "      <td>20</td>\n",
       "      <td>4</td>\n",
       "      <td>1</td>\n",
       "      <td>2</td>\n",
       "      <td>15</td>\n",
       "      <td>1</td>\n",
       "      <td>2</td>\n",
       "      <td>12</td>\n",
       "      <td>4</td>\n",
       "      <td>10</td>\n",
       "      <td>11</td>\n",
       "      <td>Short</td>\n",
       "    </tr>\n",
       "    <tr>\n",
       "      <th>1</th>\n",
       "      <td>38</td>\n",
       "      <td>No</td>\n",
       "      <td>Travel_Rarely</td>\n",
       "      <td>985</td>\n",
       "      <td>Human Resources</td>\n",
       "      <td>33</td>\n",
       "      <td>5</td>\n",
       "      <td>1</td>\n",
       "      <td>Female</td>\n",
       "      <td>2</td>\n",
       "      <td>4</td>\n",
       "      <td>Healthcare Representative</td>\n",
       "      <td>3</td>\n",
       "      <td>Single</td>\n",
       "      <td>8</td>\n",
       "      <td>No</td>\n",
       "      <td>2</td>\n",
       "      <td>1</td>\n",
       "      <td>3</td>\n",
       "      <td>4</td>\n",
       "      <td>5</td>\n",
       "      <td>4</td>\n",
       "      <td>3</td>\n",
       "      <td>1</td>\n",
       "      <td>1</td>\n",
       "      <td>1</td>\n",
       "      <td>1</td>\n",
       "      <td>Long</td>\n",
       "    </tr>\n",
       "    <tr>\n",
       "      <th>2</th>\n",
       "      <td>59</td>\n",
       "      <td>Yes</td>\n",
       "      <td>Non-Travel</td>\n",
       "      <td>1273</td>\n",
       "      <td>Sales</td>\n",
       "      <td>5</td>\n",
       "      <td>2</td>\n",
       "      <td>4</td>\n",
       "      <td>Female</td>\n",
       "      <td>1</td>\n",
       "      <td>3</td>\n",
       "      <td>Manufacturing Director</td>\n",
       "      <td>2</td>\n",
       "      <td>Married</td>\n",
       "      <td>7</td>\n",
       "      <td>Yes</td>\n",
       "      <td>39</td>\n",
       "      <td>3</td>\n",
       "      <td>2</td>\n",
       "      <td>2</td>\n",
       "      <td>9</td>\n",
       "      <td>5</td>\n",
       "      <td>1</td>\n",
       "      <td>6</td>\n",
       "      <td>6</td>\n",
       "      <td>4</td>\n",
       "      <td>3</td>\n",
       "      <td>Short</td>\n",
       "    </tr>\n",
       "    <tr>\n",
       "      <th>3</th>\n",
       "      <td>52</td>\n",
       "      <td>Yes</td>\n",
       "      <td>Travel_Rarely</td>\n",
       "      <td>480</td>\n",
       "      <td>Support</td>\n",
       "      <td>2</td>\n",
       "      <td>5</td>\n",
       "      <td>4</td>\n",
       "      <td>Female</td>\n",
       "      <td>2</td>\n",
       "      <td>4</td>\n",
       "      <td>Human Resources</td>\n",
       "      <td>1</td>\n",
       "      <td>Married</td>\n",
       "      <td>4</td>\n",
       "      <td>No</td>\n",
       "      <td>16</td>\n",
       "      <td>3</td>\n",
       "      <td>2</td>\n",
       "      <td>2</td>\n",
       "      <td>22</td>\n",
       "      <td>4</td>\n",
       "      <td>4</td>\n",
       "      <td>10</td>\n",
       "      <td>9</td>\n",
       "      <td>5</td>\n",
       "      <td>6</td>\n",
       "      <td>Short</td>\n",
       "    </tr>\n",
       "    <tr>\n",
       "      <th>4</th>\n",
       "      <td>32</td>\n",
       "      <td>No</td>\n",
       "      <td>Non-Travel</td>\n",
       "      <td>543</td>\n",
       "      <td>Human Resources</td>\n",
       "      <td>7</td>\n",
       "      <td>5</td>\n",
       "      <td>2</td>\n",
       "      <td>Male</td>\n",
       "      <td>3</td>\n",
       "      <td>3</td>\n",
       "      <td>Manager</td>\n",
       "      <td>2</td>\n",
       "      <td>Divorced</td>\n",
       "      <td>6</td>\n",
       "      <td>Yes</td>\n",
       "      <td>42</td>\n",
       "      <td>3</td>\n",
       "      <td>4</td>\n",
       "      <td>2</td>\n",
       "      <td>30</td>\n",
       "      <td>3</td>\n",
       "      <td>4</td>\n",
       "      <td>29</td>\n",
       "      <td>27</td>\n",
       "      <td>9</td>\n",
       "      <td>7</td>\n",
       "      <td>Short</td>\n",
       "    </tr>\n",
       "  </tbody>\n",
       "</table>\n",
       "</div>"
      ],
      "text/plain": [
       "   Age Attrition BusinessTravel  DailyRate       Department  DistanceFromHome  \\\n",
       "0   31        No     Non-Travel        158         Software                 7   \n",
       "1   38        No  Travel_Rarely        985  Human Resources                33   \n",
       "2   59       Yes     Non-Travel       1273            Sales                 5   \n",
       "3   52       Yes  Travel_Rarely        480          Support                 2   \n",
       "4   32        No     Non-Travel        543  Human Resources                 7   \n",
       "\n",
       "   Education  EnvironmentSatisfaction  Gender  JobInvolvement  JobLevel  \\\n",
       "0          3                        3    Male               2         3   \n",
       "1          5                        1  Female               2         4   \n",
       "2          2                        4  Female               1         3   \n",
       "3          5                        4  Female               2         4   \n",
       "4          5                        2    Male               3         3   \n",
       "\n",
       "                     JobRole  JobSatisfaction MaritalStatus  \\\n",
       "0                  Developer                1       Married   \n",
       "1  Healthcare Representative                3        Single   \n",
       "2     Manufacturing Director                2       Married   \n",
       "3            Human Resources                1       Married   \n",
       "4                    Manager                2      Divorced   \n",
       "\n",
       "   NumCompaniesWorked OverTime  PercentSalaryHike  PerformanceRating  \\\n",
       "0                   2       No                 20                  4   \n",
       "1                   8       No                  2                  1   \n",
       "2                   7      Yes                 39                  3   \n",
       "3                   4       No                 16                  3   \n",
       "4                   6      Yes                 42                  3   \n",
       "\n",
       "   RelationshipSatisfaction  StockOptionLevel  TotalWorkingYears  \\\n",
       "0                         1                 2                 15   \n",
       "1                         3                 4                  5   \n",
       "2                         2                 2                  9   \n",
       "3                         2                 2                 22   \n",
       "4                         4                 2                 30   \n",
       "\n",
       "   TrainingTimesLastYear  WorkLifeBalance  YearsAtCompany  YearsInCurrentRole  \\\n",
       "0                      1                2              12                   4   \n",
       "1                      4                3               1                   1   \n",
       "2                      5                1               6                   6   \n",
       "3                      4                4              10                   9   \n",
       "4                      3                4              29                  27   \n",
       "\n",
       "   YearsSinceLastPromotion  YearsWithCurrManager DistanceCategory  \n",
       "0                       10                    11            Short  \n",
       "1                        1                     1             Long  \n",
       "2                        4                     3            Short  \n",
       "3                        5                     6            Short  \n",
       "4                        9                     7            Short  "
      ]
     },
     "execution_count": 68,
     "metadata": {},
     "output_type": "execute_result"
    }
   ],
   "source": [
    "df.head()"
   ]
  },
  {
   "cell_type": "markdown",
   "id": "6ff7311e",
   "metadata": {},
   "source": [
    "  \n",
    " "
   ]
  },
  {
   "cell_type": "markdown",
   "id": "2f19e8fd",
   "metadata": {},
   "source": [
    "  "
   ]
  },
  {
   "cell_type": "markdown",
   "id": "f42b3b89",
   "metadata": {},
   "source": [
    "### How often do employees get promoted?"
   ]
  },
  {
   "cell_type": "code",
   "execution_count": 71,
   "id": "d95f3cf0",
   "metadata": {},
   "outputs": [
    {
     "data": {
      "image/png": "[encoded data removed]",
      "text/plain": [
       "<Figure size 864x360 with 1 Axes>"
      ]
     },
     "metadata": {},
     "output_type": "display_data"
    }
   ],
   "source": [
    "\n",
    "plt.figure(figsize=(12, 5))\n",
    "\n",
    "# Histogram for YearsSinceLastPromotion\n",
    "sns.histplot(df[\"YearsSinceLastPromotion\"], bins=10, kde=True, color=\"blue\")\n",
    "plt.title(\"Distribution of Years Since Last Promotion\")\n",
    "plt.xlabel(\"Years Since Last Promotion\")\n",
    "plt.ylabel(\"Number of Employees\")\n",
    "\n",
    "\n",
    "# Add percentage labels on bars using plt.text()\n",
    "total = len(df)\n",
    "for p in plt.gca().patches:\n",
    "    height = p.get_height()\n",
    "    plt.text(p.get_x() + p.get_width() / 2., height, f'{(height/total)*100:.1f}%',  \n",
    "             ha='center', va='bottom', fontsize=10, fontweight='bold')\n",
    "\n",
    "plt.tight_layout()\n",
    "plt.show()"
   ]
  },
  {
   "cell_type": "markdown",
   "id": "e6e77bd4",
   "metadata": {},
   "source": [
    "#### The plot is right skewed and aroung 57% employees have be promoted since last 0-5 years.\n",
    "#### There are few percentage of employee that got promotion between 5-10 years.\n",
    "#### The percentage of promoted employees goes on decreasing as the number of years are increasing.\n",
    "#### Employees who didnt get promotion for long period may feel frustated.\n",
    "#### Those with more than 10 years since their last promotion are at higher risk of leaving the company for better opportunities."
   ]
  },
  {
   "cell_type": "markdown",
   "id": "ecb6b5cc",
   "metadata": {},
   "source": [
    "  "
   ]
  },
  {
   "cell_type": "markdown",
   "id": "57cbbf87",
   "metadata": {},
   "source": [
    "  "
   ]
  },
  {
   "cell_type": "markdown",
   "id": "1e1b0bc2",
   "metadata": {},
   "source": [
    "### What percentage of employees have stock options?"
   ]
  },
  {
   "cell_type": "code",
   "execution_count": 75,
   "id": "53c36111",
   "metadata": {},
   "outputs": [
    {
     "name": "stdout",
     "output_type": "stream",
     "text": [
      "4    25.130\n",
      "3    25.088\n",
      "1    24.970\n",
      "2    24.812\n",
      "Name: StockOptionLevel, dtype: float64\n"
     ]
    },
    {
     "data": {
      "image/png": "[encoded data removed]",
      "text/plain": [
       "<Figure size 504x504 with 1 Axes>"
      ]
     },
     "metadata": {},
     "output_type": "display_data"
    }
   ],
   "source": [
    "stock_counts = df[\"StockOptionLevel\"].value_counts()\n",
    "stock_percentages = (stock_counts / len(df)) * 100  # Convert counts to percentages\n",
    "print(stock_percentages)\n",
    "\n",
    "# Pie chart\n",
    "plt.figure(figsize=(7, 7))\n",
    "plt.pie(stock_percentages, labels=stock_counts.index, autopct='%1.1f%%' , colors=['lightblue', 'lightcoral', 'lightgreen', 'gold'], startangle=140)\n",
    "plt.title(\"Percentage of Employees with Stock Options\")\n",
    "\n",
    "plt.show()"
   ]
  },
  {
   "cell_type": "markdown",
   "id": "583eaf9d",
   "metadata": {},
   "source": [
    "  "
   ]
  },
  {
   "cell_type": "markdown",
   "id": "51672a31",
   "metadata": {},
   "source": [
    " "
   ]
  },
  {
   "cell_type": "markdown",
   "id": "a7810e9a",
   "metadata": {},
   "source": [
    "### How many employees have worked at multiple companies before?"
   ]
  },
  {
   "cell_type": "code",
   "execution_count": 52,
   "id": "75976377",
   "metadata": {},
   "outputs": [
    {
     "data": {
      "image/png": "[encoded data removed]",
      "text/plain": [
       "<Figure size 504x504 with 1 Axes>"
      ]
     },
     "metadata": {},
     "output_type": "display_data"
    }
   ],
   "source": [
    "\n",
    "# Count employees based on NumCompaniesWorked\n",
    "multiple_companies_count = (df[\"NumCompaniesWorked\"] > 1).sum()\n",
    "single_company_count = (df[\"NumCompaniesWorked\"] == 1).sum()\n",
    "\n",
    "# Create DataFrame for visualization\n",
    "counts = {\"Single Company\": single_company_count, \"Multiple Companies\": multiple_companies_count}\n",
    "labels, values = counts.keys(), counts.values()\n",
    "# print(labels, values)\n",
    "\n",
    "# Plot Bar Chart\n",
    "plt.figure(figsize=(7, 7))\n",
    "sns.barplot(x=list(labels), y=list(values), palette=\"viridis\")\n",
    "\n",
    "# Add labels\n",
    "plt.title(\"Employees Who Worked at Multiple Companies\")\n",
    "plt.ylabel(\"Number of Employees\")\n",
    "plt.xlabel(\"Work Experience Type\")\n",
    "\n",
    "# Show count values on top of bars\n",
    "for index, value in enumerate(values):\n",
    "    plt.text(index, value + 5, str(value), ha='center', fontsize=12, fontweight='bold')\n",
    "\n",
    "plt.show()"
   ]
  },
  {
   "cell_type": "code",
   "execution_count": 76,
   "id": "c7db1626",
   "metadata": {},
   "outputs": [
    {
     "data": {
      "text/html": [
       "<div>\n",
       "<style scoped>\n",
       "    .dataframe tbody tr th:only-of-type {\n",
       "        vertical-align: middle;\n",
       "    }\n",
       "\n",
       "    .dataframe tbody tr th {\n",
       "        vertical-align: top;\n",
       "    }\n",
       "\n",
       "    .dataframe thead th {\n",
       "        text-align: right;\n",
       "    }\n",
       "</style>\n",
       "<table border=\"1\" class=\"dataframe\">\n",
       "  <thead>\n",
       "    <tr style=\"text-align: right;\">\n",
       "      <th></th>\n",
       "      <th>Age</th>\n",
       "      <th>Attrition</th>\n",
       "      <th>BusinessTravel</th>\n",
       "      <th>DailyRate</th>\n",
       "      <th>Department</th>\n",
       "      <th>DistanceFromHome</th>\n",
       "      <th>Education</th>\n",
       "      <th>EnvironmentSatisfaction</th>\n",
       "      <th>Gender</th>\n",
       "      <th>JobInvolvement</th>\n",
       "      <th>JobLevel</th>\n",
       "      <th>JobRole</th>\n",
       "      <th>JobSatisfaction</th>\n",
       "      <th>MaritalStatus</th>\n",
       "      <th>NumCompaniesWorked</th>\n",
       "      <th>OverTime</th>\n",
       "      <th>PercentSalaryHike</th>\n",
       "      <th>PerformanceRating</th>\n",
       "      <th>RelationshipSatisfaction</th>\n",
       "      <th>StockOptionLevel</th>\n",
       "      <th>TotalWorkingYears</th>\n",
       "      <th>TrainingTimesLastYear</th>\n",
       "      <th>WorkLifeBalance</th>\n",
       "      <th>YearsAtCompany</th>\n",
       "      <th>YearsInCurrentRole</th>\n",
       "      <th>YearsSinceLastPromotion</th>\n",
       "      <th>YearsWithCurrManager</th>\n",
       "      <th>DistanceCategory</th>\n",
       "    </tr>\n",
       "  </thead>\n",
       "  <tbody>\n",
       "    <tr>\n",
       "      <th>0</th>\n",
       "      <td>31</td>\n",
       "      <td>No</td>\n",
       "      <td>Non-Travel</td>\n",
       "      <td>158</td>\n",
       "      <td>Software</td>\n",
       "      <td>7</td>\n",
       "      <td>3</td>\n",
       "      <td>3</td>\n",
       "      <td>Male</td>\n",
       "      <td>2</td>\n",
       "      <td>3</td>\n",
       "      <td>Developer</td>\n",
       "      <td>1</td>\n",
       "      <td>Married</td>\n",
       "      <td>2</td>\n",
       "      <td>No</td>\n",
       "      <td>20</td>\n",
       "      <td>4</td>\n",
       "      <td>1</td>\n",
       "      <td>2</td>\n",
       "      <td>15</td>\n",
       "      <td>1</td>\n",
       "      <td>2</td>\n",
       "      <td>12</td>\n",
       "      <td>4</td>\n",
       "      <td>10</td>\n",
       "      <td>11</td>\n",
       "      <td>Short</td>\n",
       "    </tr>\n",
       "    <tr>\n",
       "      <th>1</th>\n",
       "      <td>38</td>\n",
       "      <td>No</td>\n",
       "      <td>Travel_Rarely</td>\n",
       "      <td>985</td>\n",
       "      <td>Human Resources</td>\n",
       "      <td>33</td>\n",
       "      <td>5</td>\n",
       "      <td>1</td>\n",
       "      <td>Female</td>\n",
       "      <td>2</td>\n",
       "      <td>4</td>\n",
       "      <td>Healthcare Representative</td>\n",
       "      <td>3</td>\n",
       "      <td>Single</td>\n",
       "      <td>8</td>\n",
       "      <td>No</td>\n",
       "      <td>2</td>\n",
       "      <td>1</td>\n",
       "      <td>3</td>\n",
       "      <td>4</td>\n",
       "      <td>5</td>\n",
       "      <td>4</td>\n",
       "      <td>3</td>\n",
       "      <td>1</td>\n",
       "      <td>1</td>\n",
       "      <td>1</td>\n",
       "      <td>1</td>\n",
       "      <td>Long</td>\n",
       "    </tr>\n",
       "    <tr>\n",
       "      <th>2</th>\n",
       "      <td>59</td>\n",
       "      <td>Yes</td>\n",
       "      <td>Non-Travel</td>\n",
       "      <td>1273</td>\n",
       "      <td>Sales</td>\n",
       "      <td>5</td>\n",
       "      <td>2</td>\n",
       "      <td>4</td>\n",
       "      <td>Female</td>\n",
       "      <td>1</td>\n",
       "      <td>3</td>\n",
       "      <td>Manufacturing Director</td>\n",
       "      <td>2</td>\n",
       "      <td>Married</td>\n",
       "      <td>7</td>\n",
       "      <td>Yes</td>\n",
       "      <td>39</td>\n",
       "      <td>3</td>\n",
       "      <td>2</td>\n",
       "      <td>2</td>\n",
       "      <td>9</td>\n",
       "      <td>5</td>\n",
       "      <td>1</td>\n",
       "      <td>6</td>\n",
       "      <td>6</td>\n",
       "      <td>4</td>\n",
       "      <td>3</td>\n",
       "      <td>Short</td>\n",
       "    </tr>\n",
       "    <tr>\n",
       "      <th>3</th>\n",
       "      <td>52</td>\n",
       "      <td>Yes</td>\n",
       "      <td>Travel_Rarely</td>\n",
       "      <td>480</td>\n",
       "      <td>Support</td>\n",
       "      <td>2</td>\n",
       "      <td>5</td>\n",
       "      <td>4</td>\n",
       "      <td>Female</td>\n",
       "      <td>2</td>\n",
       "      <td>4</td>\n",
       "      <td>Human Resources</td>\n",
       "      <td>1</td>\n",
       "      <td>Married</td>\n",
       "      <td>4</td>\n",
       "      <td>No</td>\n",
       "      <td>16</td>\n",
       "      <td>3</td>\n",
       "      <td>2</td>\n",
       "      <td>2</td>\n",
       "      <td>22</td>\n",
       "      <td>4</td>\n",
       "      <td>4</td>\n",
       "      <td>10</td>\n",
       "      <td>9</td>\n",
       "      <td>5</td>\n",
       "      <td>6</td>\n",
       "      <td>Short</td>\n",
       "    </tr>\n",
       "    <tr>\n",
       "      <th>4</th>\n",
       "      <td>32</td>\n",
       "      <td>No</td>\n",
       "      <td>Non-Travel</td>\n",
       "      <td>543</td>\n",
       "      <td>Human Resources</td>\n",
       "      <td>7</td>\n",
       "      <td>5</td>\n",
       "      <td>2</td>\n",
       "      <td>Male</td>\n",
       "      <td>3</td>\n",
       "      <td>3</td>\n",
       "      <td>Manager</td>\n",
       "      <td>2</td>\n",
       "      <td>Divorced</td>\n",
       "      <td>6</td>\n",
       "      <td>Yes</td>\n",
       "      <td>42</td>\n",
       "      <td>3</td>\n",
       "      <td>4</td>\n",
       "      <td>2</td>\n",
       "      <td>30</td>\n",
       "      <td>3</td>\n",
       "      <td>4</td>\n",
       "      <td>29</td>\n",
       "      <td>27</td>\n",
       "      <td>9</td>\n",
       "      <td>7</td>\n",
       "      <td>Short</td>\n",
       "    </tr>\n",
       "  </tbody>\n",
       "</table>\n",
       "</div>"
      ],
      "text/plain": [
       "   Age Attrition BusinessTravel  DailyRate       Department  DistanceFromHome  \\\n",
       "0   31        No     Non-Travel        158         Software                 7   \n",
       "1   38        No  Travel_Rarely        985  Human Resources                33   \n",
       "2   59       Yes     Non-Travel       1273            Sales                 5   \n",
       "3   52       Yes  Travel_Rarely        480          Support                 2   \n",
       "4   32        No     Non-Travel        543  Human Resources                 7   \n",
       "\n",
       "   Education  EnvironmentSatisfaction  Gender  JobInvolvement  JobLevel  \\\n",
       "0          3                        3    Male               2         3   \n",
       "1          5                        1  Female               2         4   \n",
       "2          2                        4  Female               1         3   \n",
       "3          5                        4  Female               2         4   \n",
       "4          5                        2    Male               3         3   \n",
       "\n",
       "                     JobRole  JobSatisfaction MaritalStatus  \\\n",
       "0                  Developer                1       Married   \n",
       "1  Healthcare Representative                3        Single   \n",
       "2     Manufacturing Director                2       Married   \n",
       "3            Human Resources                1       Married   \n",
       "4                    Manager                2      Divorced   \n",
       "\n",
       "   NumCompaniesWorked OverTime  PercentSalaryHike  PerformanceRating  \\\n",
       "0                   2       No                 20                  4   \n",
       "1                   8       No                  2                  1   \n",
       "2                   7      Yes                 39                  3   \n",
       "3                   4       No                 16                  3   \n",
       "4                   6      Yes                 42                  3   \n",
       "\n",
       "   RelationshipSatisfaction  StockOptionLevel  TotalWorkingYears  \\\n",
       "0                         1                 2                 15   \n",
       "1                         3                 4                  5   \n",
       "2                         2                 2                  9   \n",
       "3                         2                 2                 22   \n",
       "4                         4                 2                 30   \n",
       "\n",
       "   TrainingTimesLastYear  WorkLifeBalance  YearsAtCompany  YearsInCurrentRole  \\\n",
       "0                      1                2              12                   4   \n",
       "1                      4                3               1                   1   \n",
       "2                      5                1               6                   6   \n",
       "3                      4                4              10                   9   \n",
       "4                      3                4              29                  27   \n",
       "\n",
       "   YearsSinceLastPromotion  YearsWithCurrManager DistanceCategory  \n",
       "0                       10                    11            Short  \n",
       "1                        1                     1             Long  \n",
       "2                        4                     3            Short  \n",
       "3                        5                     6            Short  \n",
       "4                        9                     7            Short  "
      ]
     },
     "execution_count": 76,
     "metadata": {},
     "output_type": "execute_result"
    }
   ],
   "source": [
    "df.head()"
   ]
  },
  {
   "cell_type": "markdown",
   "id": "233cda47",
   "metadata": {},
   "source": [
    "  "
   ]
  },
  {
   "cell_type": "markdown",
   "id": "ef5f6f59",
   "metadata": {},
   "source": [
    " "
   ]
  },
  {
   "cell_type": "markdown",
   "id": "82dd842b",
   "metadata": {},
   "source": [
    "### How long do employees stay in their current role on average?"
   ]
  },
  {
   "cell_type": "code",
   "execution_count": 77,
   "id": "b6943ce8",
   "metadata": {},
   "outputs": [
    {
     "name": "stdout",
     "output_type": "stream",
     "text": [
      "Average Years in Current Role: 5.91 years\n"
     ]
    },
    {
     "data": {
      "image/png": "[encoded data removed]",
      "text/plain": [
       "<Figure size 864x360 with 1 Axes>"
      ]
     },
     "metadata": {},
     "output_type": "display_data"
    }
   ],
   "source": [
    "# Calculate the average (mean) years in current role\n",
    "average_years = df[\"YearsInCurrentRole\"].mean()\n",
    "print(f\"Average Years in Current Role: {average_years:.2f} years\")\n",
    "\n",
    "# Plot Histogram & Box Plot\n",
    "plt.figure(figsize=(12, 5))\n",
    "\n",
    "# Histogram\n",
    "plt.subplot(1, 2, 1)\n",
    "sns.histplot(df[\"YearsInCurrentRole\"], bins=10, kde=True, color=\"blue\")\n",
    "plt.title(\"Distribution of Years in Current Role\")\n",
    "plt.xlabel(\"Years in Current Role\")\n",
    "plt.ylabel(\"Number of Employees\")\n",
    "\n",
    "plt.tight_layout()\n",
    "plt.show()"
   ]
  },
  {
   "cell_type": "markdown",
   "id": "692b027c",
   "metadata": {},
   "source": [
    " "
   ]
  },
  {
   "cell_type": "markdown",
   "id": "1b4d80a7",
   "metadata": {},
   "source": [
    " "
   ]
  },
  {
   "cell_type": "markdown",
   "id": "bbe756c1",
   "metadata": {},
   "source": [
    "### How long have employees worked with their current manager?"
   ]
  },
  {
   "cell_type": "code",
   "execution_count": 78,
   "id": "a2a9dc89",
   "metadata": {},
   "outputs": [
    {
     "data": {
      "image/png": "[encoded data removed]",
      "text/plain": [
       "<Figure size 864x360 with 2 Axes>"
      ]
     },
     "metadata": {},
     "output_type": "display_data"
    }
   ],
   "source": [
    "\n",
    "# Plot Histogram & Box Plot\n",
    "plt.figure(figsize=(12, 5))\n",
    "\n",
    "# Histogram\n",
    "plt.subplot(1, 2, 1)\n",
    "sns.histplot(df[\"YearsWithCurrManager\"], bins=10, kde=True, color=\"green\")\n",
    "plt.title(\"Distribution of Years with Current Manager\")\n",
    "plt.xlabel(\"Years with Current Manager\")\n",
    "plt.ylabel(\"Number of Employees\")\n",
    "\n",
    "# Box Plot\n",
    "plt.subplot(1, 2, 2)\n",
    "sns.boxplot(x=df[\"YearsWithCurrManager\"], color=\"red\")\n",
    "plt.title(\"Box Plot of Years with Current Manager\")\n",
    "\n",
    "plt.tight_layout()\n",
    "plt.show()"
   ]
  },
  {
   "cell_type": "markdown",
   "id": "b17c2976",
   "metadata": {},
   "source": [
    "#### Most employees do not stay with the same manager for long.\n",
    "#### A small number of employees have stayed with their current manager for exceptionally long periods, which are considered outliers.\n",
    "#### This kind of distribution is common in workplaces where employees frequently change teams, managers, or leave the company."
   ]
  },
  {
   "cell_type": "markdown",
   "id": "96750336",
   "metadata": {},
   "source": [
    " "
   ]
  },
  {
   "cell_type": "markdown",
   "id": "a5221b81",
   "metadata": {},
   "source": [
    " "
   ]
  },
  {
   "cell_type": "markdown",
   "id": "0ad7ed4a",
   "metadata": {},
   "source": [
    " "
   ]
  },
  {
   "cell_type": "markdown",
   "id": "4ed8bb02",
   "metadata": {},
   "source": [
    " "
   ]
  },
  {
   "cell_type": "markdown",
   "id": "de89bfa6",
   "metadata": {},
   "source": [
    "# Bivariate or Multivariate Analysis"
   ]
  },
  {
   "cell_type": "code",
   "execution_count": 79,
   "id": "a37e7b33",
   "metadata": {},
   "outputs": [
    {
     "data": {
      "text/html": [
       "<div>\n",
       "<style scoped>\n",
       "    .dataframe tbody tr th:only-of-type {\n",
       "        vertical-align: middle;\n",
       "    }\n",
       "\n",
       "    .dataframe tbody tr th {\n",
       "        vertical-align: top;\n",
       "    }\n",
       "\n",
       "    .dataframe thead th {\n",
       "        text-align: right;\n",
       "    }\n",
       "</style>\n",
       "<table border=\"1\" class=\"dataframe\">\n",
       "  <thead>\n",
       "    <tr style=\"text-align: right;\">\n",
       "      <th></th>\n",
       "      <th>Age</th>\n",
       "      <th>Attrition</th>\n",
       "      <th>BusinessTravel</th>\n",
       "      <th>DailyRate</th>\n",
       "      <th>Department</th>\n",
       "      <th>DistanceFromHome</th>\n",
       "      <th>Education</th>\n",
       "      <th>EnvironmentSatisfaction</th>\n",
       "      <th>Gender</th>\n",
       "      <th>JobInvolvement</th>\n",
       "      <th>JobLevel</th>\n",
       "      <th>JobRole</th>\n",
       "      <th>JobSatisfaction</th>\n",
       "      <th>MaritalStatus</th>\n",
       "      <th>NumCompaniesWorked</th>\n",
       "      <th>OverTime</th>\n",
       "      <th>PercentSalaryHike</th>\n",
       "      <th>PerformanceRating</th>\n",
       "      <th>RelationshipSatisfaction</th>\n",
       "      <th>StockOptionLevel</th>\n",
       "      <th>TotalWorkingYears</th>\n",
       "      <th>TrainingTimesLastYear</th>\n",
       "      <th>WorkLifeBalance</th>\n",
       "      <th>YearsAtCompany</th>\n",
       "      <th>YearsInCurrentRole</th>\n",
       "      <th>YearsSinceLastPromotion</th>\n",
       "      <th>YearsWithCurrManager</th>\n",
       "      <th>DistanceCategory</th>\n",
       "    </tr>\n",
       "  </thead>\n",
       "  <tbody>\n",
       "    <tr>\n",
       "      <th>0</th>\n",
       "      <td>31</td>\n",
       "      <td>No</td>\n",
       "      <td>Non-Travel</td>\n",
       "      <td>158</td>\n",
       "      <td>Software</td>\n",
       "      <td>7</td>\n",
       "      <td>3</td>\n",
       "      <td>3</td>\n",
       "      <td>Male</td>\n",
       "      <td>2</td>\n",
       "      <td>3</td>\n",
       "      <td>Developer</td>\n",
       "      <td>1</td>\n",
       "      <td>Married</td>\n",
       "      <td>2</td>\n",
       "      <td>No</td>\n",
       "      <td>20</td>\n",
       "      <td>4</td>\n",
       "      <td>1</td>\n",
       "      <td>2</td>\n",
       "      <td>15</td>\n",
       "      <td>1</td>\n",
       "      <td>2</td>\n",
       "      <td>12</td>\n",
       "      <td>4</td>\n",
       "      <td>10</td>\n",
       "      <td>11</td>\n",
       "      <td>Short</td>\n",
       "    </tr>\n",
       "    <tr>\n",
       "      <th>1</th>\n",
       "      <td>38</td>\n",
       "      <td>No</td>\n",
       "      <td>Travel_Rarely</td>\n",
       "      <td>985</td>\n",
       "      <td>Human Resources</td>\n",
       "      <td>33</td>\n",
       "      <td>5</td>\n",
       "      <td>1</td>\n",
       "      <td>Female</td>\n",
       "      <td>2</td>\n",
       "      <td>4</td>\n",
       "      <td>Healthcare Representative</td>\n",
       "      <td>3</td>\n",
       "      <td>Single</td>\n",
       "      <td>8</td>\n",
       "      <td>No</td>\n",
       "      <td>2</td>\n",
       "      <td>1</td>\n",
       "      <td>3</td>\n",
       "      <td>4</td>\n",
       "      <td>5</td>\n",
       "      <td>4</td>\n",
       "      <td>3</td>\n",
       "      <td>1</td>\n",
       "      <td>1</td>\n",
       "      <td>1</td>\n",
       "      <td>1</td>\n",
       "      <td>Long</td>\n",
       "    </tr>\n",
       "    <tr>\n",
       "      <th>2</th>\n",
       "      <td>59</td>\n",
       "      <td>Yes</td>\n",
       "      <td>Non-Travel</td>\n",
       "      <td>1273</td>\n",
       "      <td>Sales</td>\n",
       "      <td>5</td>\n",
       "      <td>2</td>\n",
       "      <td>4</td>\n",
       "      <td>Female</td>\n",
       "      <td>1</td>\n",
       "      <td>3</td>\n",
       "      <td>Manufacturing Director</td>\n",
       "      <td>2</td>\n",
       "      <td>Married</td>\n",
       "      <td>7</td>\n",
       "      <td>Yes</td>\n",
       "      <td>39</td>\n",
       "      <td>3</td>\n",
       "      <td>2</td>\n",
       "      <td>2</td>\n",
       "      <td>9</td>\n",
       "      <td>5</td>\n",
       "      <td>1</td>\n",
       "      <td>6</td>\n",
       "      <td>6</td>\n",
       "      <td>4</td>\n",
       "      <td>3</td>\n",
       "      <td>Short</td>\n",
       "    </tr>\n",
       "    <tr>\n",
       "      <th>3</th>\n",
       "      <td>52</td>\n",
       "      <td>Yes</td>\n",
       "      <td>Travel_Rarely</td>\n",
       "      <td>480</td>\n",
       "      <td>Support</td>\n",
       "      <td>2</td>\n",
       "      <td>5</td>\n",
       "      <td>4</td>\n",
       "      <td>Female</td>\n",
       "      <td>2</td>\n",
       "      <td>4</td>\n",
       "      <td>Human Resources</td>\n",
       "      <td>1</td>\n",
       "      <td>Married</td>\n",
       "      <td>4</td>\n",
       "      <td>No</td>\n",
       "      <td>16</td>\n",
       "      <td>3</td>\n",
       "      <td>2</td>\n",
       "      <td>2</td>\n",
       "      <td>22</td>\n",
       "      <td>4</td>\n",
       "      <td>4</td>\n",
       "      <td>10</td>\n",
       "      <td>9</td>\n",
       "      <td>5</td>\n",
       "      <td>6</td>\n",
       "      <td>Short</td>\n",
       "    </tr>\n",
       "    <tr>\n",
       "      <th>4</th>\n",
       "      <td>32</td>\n",
       "      <td>No</td>\n",
       "      <td>Non-Travel</td>\n",
       "      <td>543</td>\n",
       "      <td>Human Resources</td>\n",
       "      <td>7</td>\n",
       "      <td>5</td>\n",
       "      <td>2</td>\n",
       "      <td>Male</td>\n",
       "      <td>3</td>\n",
       "      <td>3</td>\n",
       "      <td>Manager</td>\n",
       "      <td>2</td>\n",
       "      <td>Divorced</td>\n",
       "      <td>6</td>\n",
       "      <td>Yes</td>\n",
       "      <td>42</td>\n",
       "      <td>3</td>\n",
       "      <td>4</td>\n",
       "      <td>2</td>\n",
       "      <td>30</td>\n",
       "      <td>3</td>\n",
       "      <td>4</td>\n",
       "      <td>29</td>\n",
       "      <td>27</td>\n",
       "      <td>9</td>\n",
       "      <td>7</td>\n",
       "      <td>Short</td>\n",
       "    </tr>\n",
       "  </tbody>\n",
       "</table>\n",
       "</div>"
      ],
      "text/plain": [
       "   Age Attrition BusinessTravel  DailyRate       Department  DistanceFromHome  \\\n",
       "0   31        No     Non-Travel        158         Software                 7   \n",
       "1   38        No  Travel_Rarely        985  Human Resources                33   \n",
       "2   59       Yes     Non-Travel       1273            Sales                 5   \n",
       "3   52       Yes  Travel_Rarely        480          Support                 2   \n",
       "4   32        No     Non-Travel        543  Human Resources                 7   \n",
       "\n",
       "   Education  EnvironmentSatisfaction  Gender  JobInvolvement  JobLevel  \\\n",
       "0          3                        3    Male               2         3   \n",
       "1          5                        1  Female               2         4   \n",
       "2          2                        4  Female               1         3   \n",
       "3          5                        4  Female               2         4   \n",
       "4          5                        2    Male               3         3   \n",
       "\n",
       "                     JobRole  JobSatisfaction MaritalStatus  \\\n",
       "0                  Developer                1       Married   \n",
       "1  Healthcare Representative                3        Single   \n",
       "2     Manufacturing Director                2       Married   \n",
       "3            Human Resources                1       Married   \n",
       "4                    Manager                2      Divorced   \n",
       "\n",
       "   NumCompaniesWorked OverTime  PercentSalaryHike  PerformanceRating  \\\n",
       "0                   2       No                 20                  4   \n",
       "1                   8       No                  2                  1   \n",
       "2                   7      Yes                 39                  3   \n",
       "3                   4       No                 16                  3   \n",
       "4                   6      Yes                 42                  3   \n",
       "\n",
       "   RelationshipSatisfaction  StockOptionLevel  TotalWorkingYears  \\\n",
       "0                         1                 2                 15   \n",
       "1                         3                 4                  5   \n",
       "2                         2                 2                  9   \n",
       "3                         2                 2                 22   \n",
       "4                         4                 2                 30   \n",
       "\n",
       "   TrainingTimesLastYear  WorkLifeBalance  YearsAtCompany  YearsInCurrentRole  \\\n",
       "0                      1                2              12                   4   \n",
       "1                      4                3               1                   1   \n",
       "2                      5                1               6                   6   \n",
       "3                      4                4              10                   9   \n",
       "4                      3                4              29                  27   \n",
       "\n",
       "   YearsSinceLastPromotion  YearsWithCurrManager DistanceCategory  \n",
       "0                       10                    11            Short  \n",
       "1                        1                     1             Long  \n",
       "2                        4                     3            Short  \n",
       "3                        5                     6            Short  \n",
       "4                        9                     7            Short  "
      ]
     },
     "execution_count": 79,
     "metadata": {},
     "output_type": "execute_result"
    }
   ],
   "source": [
    "df.head()"
   ]
  },
  {
   "cell_type": "markdown",
   "id": "65226b29",
   "metadata": {},
   "source": [
    " "
   ]
  },
  {
   "cell_type": "code",
   "execution_count": 87,
   "id": "ef7b23ea",
   "metadata": {},
   "outputs": [
    {
     "data": {
      "image/png": "[encoded data removed]",
      "text/plain": [
       "<Figure size 1080x1080 with 2 Axes>"
      ]
     },
     "metadata": {},
     "output_type": "display_data"
    }
   ],
   "source": [
    "\n",
    "# Convert categorical 'Attrition' to numeric (Yes = 1, No = 0)\n",
    "df['Attrition_encoded'] = df['Attrition'].map({'Yes': 1, 'No': 0})\n",
    "\n",
    "# correlation matrix\n",
    "corr_matrix = df.corr()\n",
    "\n",
    "# Plot heatmap\n",
    "plt.figure(figsize=(15, 15))\n",
    "sns.heatmap(corr_matrix, annot=True, cmap='coolwarm', fmt=\".2f\", linewidths=0.5)\n",
    "plt.title(\"Correlation Heatmap of Employee Attributes\")\n",
    "plt.show()\n"
   ]
  },
  {
   "cell_type": "markdown",
   "id": "5bc7f28e",
   "metadata": {},
   "source": [
    "  "
   ]
  },
  {
   "cell_type": "markdown",
   "id": "7dbdf63b",
   "metadata": {},
   "source": [
    "#### Here you can see that almost al the features have no relation with the attrition.\n",
    "#### However some of the features are related to eachother."
   ]
  },
  {
   "cell_type": "markdown",
   "id": "15073911",
   "metadata": {},
   "source": [
    " "
   ]
  },
  {
   "cell_type": "markdown",
   "id": "45275378",
   "metadata": {},
   "source": [
    " "
   ]
  },
  {
   "cell_type": "markdown",
   "id": "beb72c37",
   "metadata": {},
   "source": [
    " "
   ]
  },
  {
   "cell_type": "code",
   "execution_count": 130,
   "id": "9ffadd7c",
   "metadata": {
    "scrolled": false
   },
   "outputs": [
    {
     "data": {
      "image/png": "[encoded data removed]",
      "text/plain": [
       "<Figure size 1080x720 with 5 Axes>"
      ]
     },
     "metadata": {},
     "output_type": "display_data"
    }
   ],
   "source": [
    "# List of categorical features\n",
    "categorical_features = ['BusinessTravel', 'Department', 'Gender', 'JobRole', 'OverTime']\n",
    "\n",
    "plt.figure(figsize=(15, 10))\n",
    "\n",
    "# Clustered bar graph plot\n",
    "for i, feature in enumerate(categorical_features, 1):\n",
    "    plt.subplot(2, 3, i)\n",
    "    sns.countplot(data=df, x=feature, hue='Attrition', palette='cividis')\n",
    "    plt.title(f'Attrition by {feature}')\n",
    "    plt.ylabel('Count')\n",
    "    plt.xticks(rotation=45)\n",
    "    plt.legend(title='Attrition', labels=['No', 'Yes'])\n",
    "\n",
    "plt.tight_layout()\n",
    "plt.show()"
   ]
  },
  {
   "cell_type": "markdown",
   "id": "8a508327",
   "metadata": {},
   "source": [
    "#### In case of categorical features aslo we dont see any major difference which contribute to the attrition."
   ]
  },
  {
   "cell_type": "markdown",
   "id": "e2f9345b",
   "metadata": {},
   "source": [
    " "
   ]
  },
  {
   "cell_type": "markdown",
   "id": "9ddb2ef5",
   "metadata": {},
   "source": [
    " "
   ]
  },
  {
   "cell_type": "code",
   "execution_count": 148,
   "id": "982b0c7e",
   "metadata": {},
   "outputs": [
    {
     "data": {
      "text/html": [
       "<div>\n",
       "<style scoped>\n",
       "    .dataframe tbody tr th:only-of-type {\n",
       "        vertical-align: middle;\n",
       "    }\n",
       "\n",
       "    .dataframe tbody tr th {\n",
       "        vertical-align: top;\n",
       "    }\n",
       "\n",
       "    .dataframe thead th {\n",
       "        text-align: right;\n",
       "    }\n",
       "</style>\n",
       "<table border=\"1\" class=\"dataframe\">\n",
       "  <thead>\n",
       "    <tr style=\"text-align: right;\">\n",
       "      <th></th>\n",
       "      <th>Age</th>\n",
       "      <th>Attrition</th>\n",
       "      <th>BusinessTravel</th>\n",
       "      <th>DailyRate</th>\n",
       "      <th>Department</th>\n",
       "      <th>DistanceFromHome</th>\n",
       "      <th>Education</th>\n",
       "      <th>EnvironmentSatisfaction</th>\n",
       "      <th>Gender</th>\n",
       "      <th>JobInvolvement</th>\n",
       "      <th>JobLevel</th>\n",
       "      <th>JobRole</th>\n",
       "      <th>JobSatisfaction</th>\n",
       "      <th>MaritalStatus</th>\n",
       "      <th>NumCompaniesWorked</th>\n",
       "      <th>OverTime</th>\n",
       "      <th>PercentSalaryHike</th>\n",
       "      <th>PerformanceRating</th>\n",
       "      <th>RelationshipSatisfaction</th>\n",
       "      <th>StockOptionLevel</th>\n",
       "      <th>TotalWorkingYears</th>\n",
       "      <th>TrainingTimesLastYear</th>\n",
       "      <th>WorkLifeBalance</th>\n",
       "      <th>YearsAtCompany</th>\n",
       "      <th>YearsInCurrentRole</th>\n",
       "      <th>YearsSinceLastPromotion</th>\n",
       "      <th>YearsWithCurrManager</th>\n",
       "      <th>DistanceCategory</th>\n",
       "      <th>Attrition_encoded</th>\n",
       "    </tr>\n",
       "  </thead>\n",
       "  <tbody>\n",
       "    <tr>\n",
       "      <th>0</th>\n",
       "      <td>31</td>\n",
       "      <td>No</td>\n",
       "      <td>Non-Travel</td>\n",
       "      <td>158</td>\n",
       "      <td>Software</td>\n",
       "      <td>7</td>\n",
       "      <td>3</td>\n",
       "      <td>3</td>\n",
       "      <td>Male</td>\n",
       "      <td>2</td>\n",
       "      <td>3</td>\n",
       "      <td>Developer</td>\n",
       "      <td>1</td>\n",
       "      <td>Married</td>\n",
       "      <td>2</td>\n",
       "      <td>No</td>\n",
       "      <td>20</td>\n",
       "      <td>4</td>\n",
       "      <td>1</td>\n",
       "      <td>2</td>\n",
       "      <td>15</td>\n",
       "      <td>1</td>\n",
       "      <td>2</td>\n",
       "      <td>12</td>\n",
       "      <td>4</td>\n",
       "      <td>10</td>\n",
       "      <td>11</td>\n",
       "      <td>Short</td>\n",
       "      <td>0</td>\n",
       "    </tr>\n",
       "    <tr>\n",
       "      <th>1</th>\n",
       "      <td>38</td>\n",
       "      <td>No</td>\n",
       "      <td>Travel_Rarely</td>\n",
       "      <td>985</td>\n",
       "      <td>Human Resources</td>\n",
       "      <td>33</td>\n",
       "      <td>5</td>\n",
       "      <td>1</td>\n",
       "      <td>Female</td>\n",
       "      <td>2</td>\n",
       "      <td>4</td>\n",
       "      <td>Healthcare Representative</td>\n",
       "      <td>3</td>\n",
       "      <td>Single</td>\n",
       "      <td>8</td>\n",
       "      <td>No</td>\n",
       "      <td>2</td>\n",
       "      <td>1</td>\n",
       "      <td>3</td>\n",
       "      <td>4</td>\n",
       "      <td>5</td>\n",
       "      <td>4</td>\n",
       "      <td>3</td>\n",
       "      <td>1</td>\n",
       "      <td>1</td>\n",
       "      <td>1</td>\n",
       "      <td>1</td>\n",
       "      <td>Long</td>\n",
       "      <td>0</td>\n",
       "    </tr>\n",
       "    <tr>\n",
       "      <th>2</th>\n",
       "      <td>59</td>\n",
       "      <td>Yes</td>\n",
       "      <td>Non-Travel</td>\n",
       "      <td>1273</td>\n",
       "      <td>Sales</td>\n",
       "      <td>5</td>\n",
       "      <td>2</td>\n",
       "      <td>4</td>\n",
       "      <td>Female</td>\n",
       "      <td>1</td>\n",
       "      <td>3</td>\n",
       "      <td>Manufacturing Director</td>\n",
       "      <td>2</td>\n",
       "      <td>Married</td>\n",
       "      <td>7</td>\n",
       "      <td>Yes</td>\n",
       "      <td>39</td>\n",
       "      <td>3</td>\n",
       "      <td>2</td>\n",
       "      <td>2</td>\n",
       "      <td>9</td>\n",
       "      <td>5</td>\n",
       "      <td>1</td>\n",
       "      <td>6</td>\n",
       "      <td>6</td>\n",
       "      <td>4</td>\n",
       "      <td>3</td>\n",
       "      <td>Short</td>\n",
       "      <td>1</td>\n",
       "    </tr>\n",
       "    <tr>\n",
       "      <th>3</th>\n",
       "      <td>52</td>\n",
       "      <td>Yes</td>\n",
       "      <td>Travel_Rarely</td>\n",
       "      <td>480</td>\n",
       "      <td>Support</td>\n",
       "      <td>2</td>\n",
       "      <td>5</td>\n",
       "      <td>4</td>\n",
       "      <td>Female</td>\n",
       "      <td>2</td>\n",
       "      <td>4</td>\n",
       "      <td>Human Resources</td>\n",
       "      <td>1</td>\n",
       "      <td>Married</td>\n",
       "      <td>4</td>\n",
       "      <td>No</td>\n",
       "      <td>16</td>\n",
       "      <td>3</td>\n",
       "      <td>2</td>\n",
       "      <td>2</td>\n",
       "      <td>22</td>\n",
       "      <td>4</td>\n",
       "      <td>4</td>\n",
       "      <td>10</td>\n",
       "      <td>9</td>\n",
       "      <td>5</td>\n",
       "      <td>6</td>\n",
       "      <td>Short</td>\n",
       "      <td>1</td>\n",
       "    </tr>\n",
       "    <tr>\n",
       "      <th>4</th>\n",
       "      <td>32</td>\n",
       "      <td>No</td>\n",
       "      <td>Non-Travel</td>\n",
       "      <td>543</td>\n",
       "      <td>Human Resources</td>\n",
       "      <td>7</td>\n",
       "      <td>5</td>\n",
       "      <td>2</td>\n",
       "      <td>Male</td>\n",
       "      <td>3</td>\n",
       "      <td>3</td>\n",
       "      <td>Manager</td>\n",
       "      <td>2</td>\n",
       "      <td>Divorced</td>\n",
       "      <td>6</td>\n",
       "      <td>Yes</td>\n",
       "      <td>42</td>\n",
       "      <td>3</td>\n",
       "      <td>4</td>\n",
       "      <td>2</td>\n",
       "      <td>30</td>\n",
       "      <td>3</td>\n",
       "      <td>4</td>\n",
       "      <td>29</td>\n",
       "      <td>27</td>\n",
       "      <td>9</td>\n",
       "      <td>7</td>\n",
       "      <td>Short</td>\n",
       "      <td>0</td>\n",
       "    </tr>\n",
       "  </tbody>\n",
       "</table>\n",
       "</div>"
      ],
      "text/plain": [
       "   Age Attrition BusinessTravel  DailyRate       Department  DistanceFromHome  \\\n",
       "0   31        No     Non-Travel        158         Software                 7   \n",
       "1   38        No  Travel_Rarely        985  Human Resources                33   \n",
       "2   59       Yes     Non-Travel       1273            Sales                 5   \n",
       "3   52       Yes  Travel_Rarely        480          Support                 2   \n",
       "4   32        No     Non-Travel        543  Human Resources                 7   \n",
       "\n",
       "   Education  EnvironmentSatisfaction  Gender  JobInvolvement  JobLevel  \\\n",
       "0          3                        3    Male               2         3   \n",
       "1          5                        1  Female               2         4   \n",
       "2          2                        4  Female               1         3   \n",
       "3          5                        4  Female               2         4   \n",
       "4          5                        2    Male               3         3   \n",
       "\n",
       "                     JobRole  JobSatisfaction MaritalStatus  \\\n",
       "0                  Developer                1       Married   \n",
       "1  Healthcare Representative                3        Single   \n",
       "2     Manufacturing Director                2       Married   \n",
       "3            Human Resources                1       Married   \n",
       "4                    Manager                2      Divorced   \n",
       "\n",
       "   NumCompaniesWorked OverTime  PercentSalaryHike  PerformanceRating  \\\n",
       "0                   2       No                 20                  4   \n",
       "1                   8       No                  2                  1   \n",
       "2                   7      Yes                 39                  3   \n",
       "3                   4       No                 16                  3   \n",
       "4                   6      Yes                 42                  3   \n",
       "\n",
       "   RelationshipSatisfaction  StockOptionLevel  TotalWorkingYears  \\\n",
       "0                         1                 2                 15   \n",
       "1                         3                 4                  5   \n",
       "2                         2                 2                  9   \n",
       "3                         2                 2                 22   \n",
       "4                         4                 2                 30   \n",
       "\n",
       "   TrainingTimesLastYear  WorkLifeBalance  YearsAtCompany  YearsInCurrentRole  \\\n",
       "0                      1                2              12                   4   \n",
       "1                      4                3               1                   1   \n",
       "2                      5                1               6                   6   \n",
       "3                      4                4              10                   9   \n",
       "4                      3                4              29                  27   \n",
       "\n",
       "   YearsSinceLastPromotion  YearsWithCurrManager DistanceCategory  \\\n",
       "0                       10                    11            Short   \n",
       "1                        1                     1             Long   \n",
       "2                        4                     3            Short   \n",
       "3                        5                     6            Short   \n",
       "4                        9                     7            Short   \n",
       "\n",
       "   Attrition_encoded  \n",
       "0                  0  \n",
       "1                  0  \n",
       "2                  1  \n",
       "3                  1  \n",
       "4                  0  "
      ]
     },
     "execution_count": 148,
     "metadata": {},
     "output_type": "execute_result"
    }
   ],
   "source": [
    "df.head()"
   ]
  },
  {
   "cell_type": "code",
   "execution_count": null,
   "id": "27b0db0a",
   "metadata": {},
   "outputs": [],
   "source": []
  },
  {
   "cell_type": "code",
   "execution_count": 150,
   "id": "4eeee000",
   "metadata": {
    "scrolled": false
   },
   "outputs": [
    {
     "data": {
      "image/png": "[encoded data removed]",
      "text/plain": [
       "<Figure size 720x432 with 1 Axes>"
      ]
     },
     "metadata": {},
     "output_type": "display_data"
    }
   ],
   "source": [
    "\n",
    "plt.figure(figsize=(10, 6))\n",
    "sns.barplot(x=\"Department\", y=\"JobSatisfaction\", data=df, ci=None, palette=\"viridis\")\n",
    "\n",
    "plt.xlabel(\"Department\")\n",
    "plt.ylabel(\"Average Job Satisfaction\")\n",
    "plt.title(\"Average Job Satisfaction Across Departments\")\n",
    "plt.xticks(rotation=45)  # Rotate department labels for better readability\n",
    "plt.show()"
   ]
  },
  {
   "cell_type": "markdown",
   "id": "d14f342a",
   "metadata": {},
   "source": [
    " "
   ]
  },
  {
   "cell_type": "markdown",
   "id": "bd911ee4",
   "metadata": {},
   "source": [
    " "
   ]
  },
  {
   "cell_type": "markdown",
   "id": "238057dc",
   "metadata": {},
   "source": [
    " "
   ]
  },
  {
   "cell_type": "markdown",
   "id": "71db654c",
   "metadata": {},
   "source": [
    "# Question and Answers"
   ]
  },
  {
   "cell_type": "markdown",
   "id": "3e6b8e15",
   "metadata": {},
   "source": [
    "### 1. What is the overall attrition rate in the company?"
   ]
  },
  {
   "cell_type": "code",
   "execution_count": 155,
   "id": "6d0d4025",
   "metadata": {},
   "outputs": [],
   "source": [
    "yes_no_Attrition_count = df['Attrition'].value_counts()"
   ]
  },
  {
   "cell_type": "code",
   "execution_count": 156,
   "id": "f8330de4",
   "metadata": {},
   "outputs": [
    {
     "data": {
      "text/plain": [
       "25105"
      ]
     },
     "execution_count": 156,
     "metadata": {},
     "output_type": "execute_result"
    }
   ],
   "source": [
    "yes_no_Attrition_count['Yes']"
   ]
  },
  {
   "cell_type": "code",
   "execution_count": 157,
   "id": "c9ec7602",
   "metadata": {},
   "outputs": [
    {
     "data": {
      "text/plain": [
       "50000"
      ]
     },
     "execution_count": 157,
     "metadata": {},
     "output_type": "execute_result"
    }
   ],
   "source": [
    "yes_no_Attrition_count.sum()"
   ]
  },
  {
   "cell_type": "code",
   "execution_count": 160,
   "id": "251a838c",
   "metadata": {},
   "outputs": [
    {
     "name": "stdout",
     "output_type": "stream",
     "text": [
      "Overall attrition rate: 50.21%\n"
     ]
    }
   ],
   "source": [
    "percentage_attrition = (yes_no_Attrition_count['Yes']/yes_no_Attrition_count.sum()) * 100\n",
    "print(f'Overall attrition rate: {percentage_attrition}%')"
   ]
  },
  {
   "cell_type": "markdown",
   "id": "1ecbb051",
   "metadata": {},
   "source": [
    "  "
   ]
  },
  {
   "cell_type": "markdown",
   "id": "601625d5",
   "metadata": {},
   "source": [
    "### 2. What percentage of employees in each department have left?"
   ]
  },
  {
   "cell_type": "code",
   "execution_count": 179,
   "id": "bfa57746",
   "metadata": {},
   "outputs": [],
   "source": [
    "total_counts = df.groupby(\"Department\")[\"Attrition\"].count() # gives total employee in each department.\n",
    "\n",
    "total_employees_left = df[df['Attrition'] == 'Yes'] \n",
    "left_counts = total_employees_left.groupby('Department')['Attrition'].count() # employees left from each department.\n"
   ]
  },
  {
   "cell_type": "code",
   "execution_count": 180,
   "id": "cc2579e4",
   "metadata": {},
   "outputs": [
    {
     "name": "stdout",
     "output_type": "stream",
     "text": [
      "Department\n",
      "Hardware                  49.443016\n",
      "Human Resources           49.857448\n",
      "Research & Development    51.208078\n",
      "Sales                     50.017745\n",
      "Software                  50.539827\n",
      "Support                   50.186635\n",
      "Name: Attrition, dtype: float64\n"
     ]
    }
   ],
   "source": [
    "left_percentage = (left_counts/total_counts)*100\n",
    "print(left_percentage)"
   ]
  },
  {
   "cell_type": "markdown",
   "id": "d55122a3",
   "metadata": {},
   "source": [
    "  "
   ]
  },
  {
   "cell_type": "markdown",
   "id": "f228bb38",
   "metadata": {},
   "source": [
    "### 3. What is the attrition rate for each job role?"
   ]
  },
  {
   "cell_type": "code",
   "execution_count": 194,
   "id": "ed1b7a3c",
   "metadata": {},
   "outputs": [],
   "source": [
    "total_count = df['JobRole'].value_counts() # Total employees in each JobRole\n",
    "\n",
    "total_employees_left = df[df['Attrition'] == 'Yes']\n",
    "left_counts = total_employees_left.groupby('JobRole')['Attrition'].count()"
   ]
  },
  {
   "cell_type": "code",
   "execution_count": 196,
   "id": "329a7763",
   "metadata": {},
   "outputs": [
    {
     "name": "stdout",
     "output_type": "stream",
     "text": [
      "Human Resources              50.568182\n",
      "Sales Representative         50.428372\n",
      "Laboratory Technician        50.427524\n",
      "Manager                      50.416998\n",
      "Sales Executive              50.405700\n",
      "Developer                    50.371113\n",
      "Research Director            50.358280\n",
      "Healthcare Representative    50.267592\n",
      "Manufacturing Director       49.959791\n",
      "Research Scientist           48.905255\n",
      "dtype: float64\n"
     ]
    }
   ],
   "source": [
    "left_percentage = (left_counts/total_count)*100\n",
    "print(left_percentage.sort_values(ascending=False))"
   ]
  },
  {
   "cell_type": "markdown",
   "id": "306355ae",
   "metadata": {},
   "source": [
    " "
   ]
  },
  {
   "cell_type": "markdown",
   "id": "ef1c5db6",
   "metadata": {},
   "source": [
    "### 4. Does age impact attrition? Are younger employees leaving more than older ones?"
   ]
  },
  {
   "cell_type": "code",
   "execution_count": 187,
   "id": "c65e7c44",
   "metadata": {},
   "outputs": [],
   "source": [
    "bins = [18, 25, 35, 45, 55, 65]\n",
    "labels = ['18-24','25-34','35-44','45-54','55-64']"
   ]
  },
  {
   "cell_type": "code",
   "execution_count": 190,
   "id": "7e34089b",
   "metadata": {},
   "outputs": [
    {
     "data": {
      "text/plain": [
       "18-24    50.370191\n",
       "25-34    50.502251\n",
       "35-44    48.929216\n",
       "45-54    50.509200\n",
       "55-64    51.180988\n",
       "dtype: float64"
      ]
     },
     "execution_count": 190,
     "metadata": {},
     "output_type": "execute_result"
    }
   ],
   "source": [
    "# Creating a new column name AgeGroup which contains age bins\n",
    "df['AgeGroup'] = pd.cut(df['Age'], bins=bins, labels=labels, right=False)\n",
    "\n",
    "total_employees_left = df[df['Attrition'] == 'Yes']\n",
    "left_count = total_employees_left.groupby('AgeGroup')['Attrition'].count()\n",
    "\n",
    "total_count = df['AgeGroup'].value_counts()\n",
    "\n",
    "age_attrition = (left_count/total_count)*100\n",
    "age_attrition"
   ]
  },
  {
   "cell_type": "markdown",
   "id": "903b10b1",
   "metadata": {},
   "source": [
    "There is not much difference in the percentage of attrition of younger employee vs older employee. Hence age does impact attrition."
   ]
  },
  {
   "cell_type": "markdown",
   "id": "4c50d010",
   "metadata": {},
   "source": [
    " "
   ]
  },
  {
   "cell_type": "markdown",
   "id": "ea758ff8",
   "metadata": {},
   "source": [
    "### 5. What is the average age of employees who leave vs. those who stay?"
   ]
  },
  {
   "cell_type": "code",
   "execution_count": 191,
   "id": "ed10d544",
   "metadata": {},
   "outputs": [
    {
     "data": {
      "text/plain": [
       "Attrition\n",
       "No     38.933722\n",
       "Yes    39.008923\n",
       "Name: Age, dtype: float64"
      ]
     },
     "execution_count": 191,
     "metadata": {},
     "output_type": "execute_result"
    }
   ],
   "source": [
    "df.groupby('Attrition')['Age'].mean()"
   ]
  },
  {
   "cell_type": "markdown",
   "id": "d5d1a9ec",
   "metadata": {},
   "source": [
    " "
   ]
  },
  {
   "cell_type": "markdown",
   "id": "b260e654",
   "metadata": {},
   "source": [
    "### 6. What is the average salary difference between employees who leave and those who stay?"
   ]
  },
  {
   "cell_type": "code",
   "execution_count": 209,
   "id": "ad8da32b",
   "metadata": {},
   "outputs": [],
   "source": [
    "left_employees = df[df['Attrition'] == 'Yes']\n",
    "stayed_employees = df[df['Attrition'] == 'No']"
   ]
  },
  {
   "cell_type": "code",
   "execution_count": 218,
   "id": "a0129dfe",
   "metadata": {},
   "outputs": [
    {
     "name": "stdout",
     "output_type": "stream",
     "text": [
      "left employees average sal: 794.28\n",
      "stayed emplyees average sal: 803.11\n"
     ]
    },
    {
     "data": {
      "text/plain": [
       "8.83"
      ]
     },
     "execution_count": 218,
     "metadata": {},
     "output_type": "execute_result"
    }
   ],
   "source": [
    "left_employees_sal_avg = round(left_employees['DailyRate'].mean(),2)\n",
    "stayed_employees_sal_avg = round(stayed_employees['DailyRate'].mean(),2)\n",
    "print(f'left employees average sal: {left_employees_sal_avg}')\n",
    "print(f'stayed emplyees average sal: {stayed_employees_sal_avg}')\n",
    "\n",
    "avg_sal_diff = abs(round((left_employees_sal_avg-stayed_employees_sal_avg),2))\n",
    "avg_sal_diff"
   ]
  },
  {
   "cell_type": "markdown",
   "id": "6bb0fc6c",
   "metadata": {},
   "source": [
    " "
   ]
  },
  {
   "cell_type": "markdown",
   "id": "645cd21f",
   "metadata": {},
   "source": [
    "### 7. What is the average tenure of employees before they leave?\n"
   ]
  },
  {
   "cell_type": "code",
   "execution_count": 219,
   "id": "a58bc177",
   "metadata": {},
   "outputs": [
    {
     "data": {
      "text/html": [
       "<div>\n",
       "<style scoped>\n",
       "    .dataframe tbody tr th:only-of-type {\n",
       "        vertical-align: middle;\n",
       "    }\n",
       "\n",
       "    .dataframe tbody tr th {\n",
       "        vertical-align: top;\n",
       "    }\n",
       "\n",
       "    .dataframe thead th {\n",
       "        text-align: right;\n",
       "    }\n",
       "</style>\n",
       "<table border=\"1\" class=\"dataframe\">\n",
       "  <thead>\n",
       "    <tr style=\"text-align: right;\">\n",
       "      <th></th>\n",
       "      <th>Age</th>\n",
       "      <th>Attrition</th>\n",
       "      <th>BusinessTravel</th>\n",
       "      <th>DailyRate</th>\n",
       "      <th>Department</th>\n",
       "      <th>DistanceFromHome</th>\n",
       "      <th>Education</th>\n",
       "      <th>EnvironmentSatisfaction</th>\n",
       "      <th>Gender</th>\n",
       "      <th>JobInvolvement</th>\n",
       "      <th>JobLevel</th>\n",
       "      <th>JobRole</th>\n",
       "      <th>JobSatisfaction</th>\n",
       "      <th>MaritalStatus</th>\n",
       "      <th>NumCompaniesWorked</th>\n",
       "      <th>OverTime</th>\n",
       "      <th>PercentSalaryHike</th>\n",
       "      <th>PerformanceRating</th>\n",
       "      <th>RelationshipSatisfaction</th>\n",
       "      <th>StockOptionLevel</th>\n",
       "      <th>TotalWorkingYears</th>\n",
       "      <th>TrainingTimesLastYear</th>\n",
       "      <th>WorkLifeBalance</th>\n",
       "      <th>YearsAtCompany</th>\n",
       "      <th>YearsInCurrentRole</th>\n",
       "      <th>YearsSinceLastPromotion</th>\n",
       "      <th>YearsWithCurrManager</th>\n",
       "      <th>DistanceCategory</th>\n",
       "      <th>Attrition_encoded</th>\n",
       "      <th>AgeGroup</th>\n",
       "    </tr>\n",
       "  </thead>\n",
       "  <tbody>\n",
       "    <tr>\n",
       "      <th>0</th>\n",
       "      <td>31</td>\n",
       "      <td>No</td>\n",
       "      <td>Non-Travel</td>\n",
       "      <td>158</td>\n",
       "      <td>Software</td>\n",
       "      <td>7</td>\n",
       "      <td>3</td>\n",
       "      <td>3</td>\n",
       "      <td>Male</td>\n",
       "      <td>2</td>\n",
       "      <td>3</td>\n",
       "      <td>Developer</td>\n",
       "      <td>1</td>\n",
       "      <td>Married</td>\n",
       "      <td>2</td>\n",
       "      <td>No</td>\n",
       "      <td>20</td>\n",
       "      <td>4</td>\n",
       "      <td>1</td>\n",
       "      <td>2</td>\n",
       "      <td>15</td>\n",
       "      <td>1</td>\n",
       "      <td>2</td>\n",
       "      <td>12</td>\n",
       "      <td>4</td>\n",
       "      <td>10</td>\n",
       "      <td>11</td>\n",
       "      <td>Short</td>\n",
       "      <td>0</td>\n",
       "      <td>25-34</td>\n",
       "    </tr>\n",
       "    <tr>\n",
       "      <th>1</th>\n",
       "      <td>38</td>\n",
       "      <td>No</td>\n",
       "      <td>Travel_Rarely</td>\n",
       "      <td>985</td>\n",
       "      <td>Human Resources</td>\n",
       "      <td>33</td>\n",
       "      <td>5</td>\n",
       "      <td>1</td>\n",
       "      <td>Female</td>\n",
       "      <td>2</td>\n",
       "      <td>4</td>\n",
       "      <td>Healthcare Representative</td>\n",
       "      <td>3</td>\n",
       "      <td>Single</td>\n",
       "      <td>8</td>\n",
       "      <td>No</td>\n",
       "      <td>2</td>\n",
       "      <td>1</td>\n",
       "      <td>3</td>\n",
       "      <td>4</td>\n",
       "      <td>5</td>\n",
       "      <td>4</td>\n",
       "      <td>3</td>\n",
       "      <td>1</td>\n",
       "      <td>1</td>\n",
       "      <td>1</td>\n",
       "      <td>1</td>\n",
       "      <td>Long</td>\n",
       "      <td>0</td>\n",
       "      <td>35-44</td>\n",
       "    </tr>\n",
       "    <tr>\n",
       "      <th>2</th>\n",
       "      <td>59</td>\n",
       "      <td>Yes</td>\n",
       "      <td>Non-Travel</td>\n",
       "      <td>1273</td>\n",
       "      <td>Sales</td>\n",
       "      <td>5</td>\n",
       "      <td>2</td>\n",
       "      <td>4</td>\n",
       "      <td>Female</td>\n",
       "      <td>1</td>\n",
       "      <td>3</td>\n",
       "      <td>Manufacturing Director</td>\n",
       "      <td>2</td>\n",
       "      <td>Married</td>\n",
       "      <td>7</td>\n",
       "      <td>Yes</td>\n",
       "      <td>39</td>\n",
       "      <td>3</td>\n",
       "      <td>2</td>\n",
       "      <td>2</td>\n",
       "      <td>9</td>\n",
       "      <td>5</td>\n",
       "      <td>1</td>\n",
       "      <td>6</td>\n",
       "      <td>6</td>\n",
       "      <td>4</td>\n",
       "      <td>3</td>\n",
       "      <td>Short</td>\n",
       "      <td>1</td>\n",
       "      <td>55-64</td>\n",
       "    </tr>\n",
       "    <tr>\n",
       "      <th>3</th>\n",
       "      <td>52</td>\n",
       "      <td>Yes</td>\n",
       "      <td>Travel_Rarely</td>\n",
       "      <td>480</td>\n",
       "      <td>Support</td>\n",
       "      <td>2</td>\n",
       "      <td>5</td>\n",
       "      <td>4</td>\n",
       "      <td>Female</td>\n",
       "      <td>2</td>\n",
       "      <td>4</td>\n",
       "      <td>Human Resources</td>\n",
       "      <td>1</td>\n",
       "      <td>Married</td>\n",
       "      <td>4</td>\n",
       "      <td>No</td>\n",
       "      <td>16</td>\n",
       "      <td>3</td>\n",
       "      <td>2</td>\n",
       "      <td>2</td>\n",
       "      <td>22</td>\n",
       "      <td>4</td>\n",
       "      <td>4</td>\n",
       "      <td>10</td>\n",
       "      <td>9</td>\n",
       "      <td>5</td>\n",
       "      <td>6</td>\n",
       "      <td>Short</td>\n",
       "      <td>1</td>\n",
       "      <td>45-54</td>\n",
       "    </tr>\n",
       "    <tr>\n",
       "      <th>4</th>\n",
       "      <td>32</td>\n",
       "      <td>No</td>\n",
       "      <td>Non-Travel</td>\n",
       "      <td>543</td>\n",
       "      <td>Human Resources</td>\n",
       "      <td>7</td>\n",
       "      <td>5</td>\n",
       "      <td>2</td>\n",
       "      <td>Male</td>\n",
       "      <td>3</td>\n",
       "      <td>3</td>\n",
       "      <td>Manager</td>\n",
       "      <td>2</td>\n",
       "      <td>Divorced</td>\n",
       "      <td>6</td>\n",
       "      <td>Yes</td>\n",
       "      <td>42</td>\n",
       "      <td>3</td>\n",
       "      <td>4</td>\n",
       "      <td>2</td>\n",
       "      <td>30</td>\n",
       "      <td>3</td>\n",
       "      <td>4</td>\n",
       "      <td>29</td>\n",
       "      <td>27</td>\n",
       "      <td>9</td>\n",
       "      <td>7</td>\n",
       "      <td>Short</td>\n",
       "      <td>0</td>\n",
       "      <td>25-34</td>\n",
       "    </tr>\n",
       "  </tbody>\n",
       "</table>\n",
       "</div>"
      ],
      "text/plain": [
       "   Age Attrition BusinessTravel  DailyRate       Department  DistanceFromHome  \\\n",
       "0   31        No     Non-Travel        158         Software                 7   \n",
       "1   38        No  Travel_Rarely        985  Human Resources                33   \n",
       "2   59       Yes     Non-Travel       1273            Sales                 5   \n",
       "3   52       Yes  Travel_Rarely        480          Support                 2   \n",
       "4   32        No     Non-Travel        543  Human Resources                 7   \n",
       "\n",
       "   Education  EnvironmentSatisfaction  Gender  JobInvolvement  JobLevel  \\\n",
       "0          3                        3    Male               2         3   \n",
       "1          5                        1  Female               2         4   \n",
       "2          2                        4  Female               1         3   \n",
       "3          5                        4  Female               2         4   \n",
       "4          5                        2    Male               3         3   \n",
       "\n",
       "                     JobRole  JobSatisfaction MaritalStatus  \\\n",
       "0                  Developer                1       Married   \n",
       "1  Healthcare Representative                3        Single   \n",
       "2     Manufacturing Director                2       Married   \n",
       "3            Human Resources                1       Married   \n",
       "4                    Manager                2      Divorced   \n",
       "\n",
       "   NumCompaniesWorked OverTime  PercentSalaryHike  PerformanceRating  \\\n",
       "0                   2       No                 20                  4   \n",
       "1                   8       No                  2                  1   \n",
       "2                   7      Yes                 39                  3   \n",
       "3                   4       No                 16                  3   \n",
       "4                   6      Yes                 42                  3   \n",
       "\n",
       "   RelationshipSatisfaction  StockOptionLevel  TotalWorkingYears  \\\n",
       "0                         1                 2                 15   \n",
       "1                         3                 4                  5   \n",
       "2                         2                 2                  9   \n",
       "3                         2                 2                 22   \n",
       "4                         4                 2                 30   \n",
       "\n",
       "   TrainingTimesLastYear  WorkLifeBalance  YearsAtCompany  YearsInCurrentRole  \\\n",
       "0                      1                2              12                   4   \n",
       "1                      4                3               1                   1   \n",
       "2                      5                1               6                   6   \n",
       "3                      4                4              10                   9   \n",
       "4                      3                4              29                  27   \n",
       "\n",
       "   YearsSinceLastPromotion  YearsWithCurrManager DistanceCategory  \\\n",
       "0                       10                    11            Short   \n",
       "1                        1                     1             Long   \n",
       "2                        4                     3            Short   \n",
       "3                        5                     6            Short   \n",
       "4                        9                     7            Short   \n",
       "\n",
       "   Attrition_encoded AgeGroup  \n",
       "0                  0    25-34  \n",
       "1                  0    35-44  \n",
       "2                  1    55-64  \n",
       "3                  1    45-54  \n",
       "4                  0    25-34  "
      ]
     },
     "execution_count": 219,
     "metadata": {},
     "output_type": "execute_result"
    }
   ],
   "source": [
    "df.head()"
   ]
  },
  {
   "cell_type": "code",
   "execution_count": 221,
   "id": "1b03ba85",
   "metadata": {},
   "outputs": [
    {
     "data": {
      "text/plain": [
       "10.75"
      ]
     },
     "execution_count": 221,
     "metadata": {},
     "output_type": "execute_result"
    }
   ],
   "source": [
    "round(df[df['Attrition'] == 'Yes']['YearsAtCompany'].mean(),2)"
   ]
  },
  {
   "cell_type": "markdown",
   "id": "c5b676eb",
   "metadata": {},
   "source": [
    " "
   ]
  },
  {
   "cell_type": "markdown",
   "id": "6e04eaa9",
   "metadata": {},
   "source": [
    "### 8. Is there a significant difference in attrition between technical and non-technical roles?"
   ]
  },
  {
   "cell_type": "code",
   "execution_count": 222,
   "id": "0b2f930a",
   "metadata": {},
   "outputs": [
    {
     "data": {
      "text/plain": [
       "array(['Developer', 'Healthcare Representative', 'Manufacturing Director',\n",
       "       'Human Resources', 'Manager', 'Research Director',\n",
       "       'Sales Executive', 'Sales Representative', 'Research Scientist',\n",
       "       'Laboratory Technician'], dtype=object)"
      ]
     },
     "execution_count": 222,
     "metadata": {},
     "output_type": "execute_result"
    }
   ],
   "source": [
    "df['JobRole'].unique()"
   ]
  },
  {
   "cell_type": "code",
   "execution_count": 224,
   "id": "fe2ad45f",
   "metadata": {},
   "outputs": [
    {
     "data": {
      "text/plain": [
       "RoleType\n",
       "Non-Technical    50.454182\n",
       "Technical        50.046723\n",
       "Name: Attrition, dtype: float64"
      ]
     },
     "execution_count": 224,
     "metadata": {},
     "output_type": "execute_result"
    }
   ],
   "source": [
    "# Define Technical & Non-Technical Roles\n",
    "technical_roles = [\"Developer\", \"Research Director\", \"Research Scientist\", \n",
    "                   \"Laboratory Technician\", \"Healthcare Representative\", \"Manufacturing Director\"]\n",
    "\n",
    "# Categorizing Job Roles\n",
    "df[\"RoleType\"] = df[\"JobRole\"].apply(lambda x: \"Technical\" if x in technical_roles else \"Non-Technical\")\n",
    "\n",
    "# Calculate Attrition Rate\n",
    "attrition_counts = df[df[\"Attrition\"] == \"Yes\"].groupby(\"RoleType\")[\"Attrition\"].count()\n",
    "total_counts = df.groupby(\"RoleType\")[\"Attrition\"].count()\n",
    "attrition_rate = (attrition_counts / total_counts) * 100\n",
    "\n",
    "attrition_rate"
   ]
  },
  {
   "cell_type": "markdown",
   "id": "58e54a7b",
   "metadata": {},
   "source": [
    " "
   ]
  },
  {
   "cell_type": "markdown",
   "id": "360ba6a6",
   "metadata": {},
   "source": [
    "### 9. Is attrition rate different for male and female employees?"
   ]
  },
  {
   "cell_type": "code",
   "execution_count": 225,
   "id": "ebbf206a",
   "metadata": {},
   "outputs": [
    {
     "data": {
      "text/plain": [
       "Gender\n",
       "Female    50.358847\n",
       "Male      50.061854\n",
       "Name: Attrition, dtype: float64"
      ]
     },
     "execution_count": 225,
     "metadata": {},
     "output_type": "execute_result"
    }
   ],
   "source": [
    "# Calculate attrition counts for Male & Female\n",
    "attrition_counts = df[df[\"Attrition\"] == \"Yes\"].groupby(\"Gender\")[\"Attrition\"].count()\n",
    "\n",
    "# Total employees by Gender\n",
    "total_counts = df.groupby(\"Gender\")[\"Attrition\"].count()\n",
    "\n",
    "# Calculate Attrition Rate\n",
    "attrition_rate = (attrition_counts / total_counts) * 100\n",
    "attrition_rate"
   ]
  },
  {
   "cell_type": "code",
   "execution_count": null,
   "id": "84699505",
   "metadata": {},
   "outputs": [],
   "source": []
  },
  {
   "cell_type": "code",
   "execution_count": null,
   "id": "9626a26a",
   "metadata": {},
   "outputs": [],
   "source": []
  },
  {
   "cell_type": "code",
   "execution_count": null,
   "id": "dc9d5469",
   "metadata": {},
   "outputs": [],
   "source": []
  },
  {
   "cell_type": "code",
   "execution_count": null,
   "id": "bb2b1575",
   "metadata": {},
   "outputs": [],
   "source": []
  }
 ],
 "metadata": {
  "kernelspec": {
   "display_name": "Python 3 (ipykernel)",
   "language": "python",
   "name": "python3"
  },
  "language_info": {
   "codemirror_mode": {
    "name": "ipython",
    "version": 3
   },
   "file_extension": ".py",
   "mimetype": "text/x-python",
   "name": "python",
   "nbconvert_exporter": "python",
   "pygments_lexer": "ipython3",
   "version": "3.9.12"
  }
 },
 "nbformat": 4,
 "nbformat_minor": 5
}
